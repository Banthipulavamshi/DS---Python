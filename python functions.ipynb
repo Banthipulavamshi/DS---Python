{
 "cells": [
  {
   "cell_type": "markdown",
   "id": "7a717309-4b10-42e6-b561-d8cc293a23b6",
   "metadata": {},
   "source": [
    "# Python Functions"
   ]
  },
  {
   "cell_type": "markdown",
   "id": "92fcedde-86fa-452d-8555-a1d0150ec0b0",
   "metadata": {},
   "source": [
    "Functions are reusable blocks of code that perform specific tasks.\n",
    "\n",
    "They allow us to break down complex problems into smaller, 1 more manageable units.\n",
    "\n",
    "By defining a function once, we can call it multiple times throughout your program, making our code more organized, efficient, and easier to maintain.\n",
    "\n"
   ]
  },
  {
   "cell_type": "markdown",
   "id": "504206c8-3c23-46e1-966f-a7663339f8d6",
   "metadata": {},
   "source": [
    "## Key Characteristics of Functions in Python:"
   ]
  },
  {
   "cell_type": "markdown",
   "id": "a30a5a91-62d1-45f4-9ee5-4068a3dbe482",
   "metadata": {},
   "source": [
    "Modularity: Functions help you divide your code into logical sections, making it easier to understand, debug, and modify.\n",
    "\r\n",
    "Reusability: Once you've defined a function, you can use it repeatedly in your program, avoiding redundant code and reducing the risk of error. \n",
    "\n",
    "\r\n",
    "Parameterization: Functions can take input in the form of parameters, allowing them to work with different data."
   ]
  },
  {
   "cell_type": "markdown",
   "id": "9346c06a-4511-4f41-8d10-a3abf772792f",
   "metadata": {},
   "source": [
    "## Types of Functions:"
   ]
  },
  {
   "cell_type": "markdown",
   "id": "ee9ec5f7-c1f6-4a5c-b72f-51d23887b206",
   "metadata": {},
   "source": [
    "## 1.Built - in Functions:\r\n"
   ]
  },
  {
   "cell_type": "markdown",
   "id": "ccd26838-723f-49d7-aace-c5c7cbd46374",
   "metadata": {},
   "source": [
    "Provided by Python: These functions are part of the core Python language and are directly accessible without needing to import any modules.\n"
   ]
  },
  {
   "cell_type": "markdown",
   "id": "40f610be-5eb6-4861-9052-abeab153de99",
   "metadata": {},
   "source": [
    "Common examples:\r\n"
   ]
  },
  {
   "cell_type": "markdown",
   "id": "2e9d5282-80e1-4e01-9b9d-7ed8fde73cd7",
   "metadata": {},
   "source": [
    ". print(): Prints values to the console.\n",
    "\n",
    ". len(): Returns the length of a sequence (string, list, tuple, etc.).\n",
    "\n",
    ". input(): Reads user input from the console.\n",
    "\n",
    ". int(), float(), str(): Convert values to integer, float, or string, respectively.\n",
    "\n",
    ". max(), min(): Find the maximum or minimum value in a sequence.\n",
    "\n",
    ". sum(): Calculates the sum of a sequence of numbers.\n",
    "\n",
    ". sorted(): Sorts a sequence.\n",
    "\n",
    ". abs(): Returns the absolute value of a numbers.\n",
    "\n",
    ". round(): Rounds a number to a specified precision.\n",
    "\n",
    ". pow(): Calculates the power of a number.\n",
    "\n",
    ". No need for import: You can use these functions directly in your code without importing any modules."
   ]
  },
  {
   "cell_type": "markdown",
   "id": "50bef92c-f1c2-41ad-80ab-2b68512110ed",
   "metadata": {},
   "source": [
    "##  2.User - Defined Functions:\n"
   ]
  },
  {
   "cell_type": "markdown",
   "id": "5fee7337-6fed-47d8-b3fe-98edeab35775",
   "metadata": {},
   "source": [
    ". Created by you: These functions are defined by us within our Python code.\n",
    "\n",
    ". Custom functionality: They allow us to encapsulate specific tasks or calculations that we need to perform repeatedly.\n",
    "\n",
    ". Flexibility: We can customize the parameters, return values, and logic of these functions to suit your specific requirements."
   ]
  },
  {
   "cell_type": "markdown",
   "id": "2f166a93-b108-4969-9fb4-ca2aa84d7734",
   "metadata": {},
   "source": [
    "## Syntax"
   ]
  },
  {
   "cell_type": "code",
   "execution_count": null,
   "id": "23d80c69-9a03-406a-9312-c8d1f242b2c1",
   "metadata": {},
   "outputs": [],
   "source": [
    "def function_name(parameters/args): -----> Function Header\r\n",
    "    # Function body (statements)   -------> Function Block\r\n",
    "    return value  # Optional\r\n",
    "\r\n",
    "# Note : The function_name -- should be in unique"
   ]
  },
  {
   "cell_type": "markdown",
   "id": "4ea7b5c2-70e1-4593-ad90-cb630e652385",
   "metadata": {},
   "source": [
    ". def: Keyword used to define a function.\n",
    "    \n",
    ". function_name: The name you choose for the function.\n",
    "    \n",
    ". parameters: Optional list of variables that the function accepts as input.\n",
    "\n",
    ". function body: The indented block of code that the function executes.\n",
    "    \n",
    ". return value: Optional value that the function returns to the caller."
   ]
  },
  {
   "cell_type": "markdown",
   "id": "b164c96d-e9e1-4199-aa08-47001be017b4",
   "metadata": {},
   "source": [
    "## Defining a Function"
   ]
  },
  {
   "cell_type": "code",
   "execution_count": 11,
   "id": "e10a9e63-c2a6-4292-9aa6-718a4facf04d",
   "metadata": {},
   "outputs": [],
   "source": [
    "def vamu():\n",
    "    print(\"I love You\")  \n"
   ]
  },
  {
   "cell_type": "markdown",
   "id": "50763cbe-d40c-4f12-9c55-6c41dc3387e5",
   "metadata": {},
   "source": [
    "## Calling a Function"
   ]
  },
  {
   "cell_type": "markdown",
   "id": "c9415a87-2703-43d8-a2de-b1f0de144495",
   "metadata": {},
   "source": [
    ". In the above example, we have decleared a function named vamu().\n",
    "    \n",
    ". Now, to use this function we need to call it.\n",
    "    \n",
    ". Note: After defining a function then only we can call the function."
   ]
  },
  {
   "cell_type": "code",
   "execution_count": 17,
   "id": "ae1e3e65-62a3-4306-b476-11b7e04dbcb9",
   "metadata": {},
   "outputs": [
    {
     "name": "stdin",
     "output_type": "stream",
     "text": [
      "Enter the name :- vamu\n"
     ]
    },
    {
     "name": "stdout",
     "output_type": "stream",
     "text": [
      "I love you vamu\n"
     ]
    }
   ],
   "source": [
    "def vamu(): # ----> Function Header \n",
    "    print(\"I love you\",end = \" \") # ------> Function Block\n",
    "\n",
    "name = input(\"Enter the name :-\")\n",
    "vamu() #-------> Calling a Function\n",
    "print(name)"
   ]
  },
  {
   "cell_type": "code",
   "execution_count": null,
   "id": "c08811c0-426d-4d48-a39e-38463e66e615",
   "metadata": {},
   "outputs": [],
   "source": []
  },
  {
   "cell_type": "markdown",
   "id": "a61274f6-43a4-4ef8-bcf7-11c6a99e6042",
   "metadata": {},
   "source": [
    "## Python Function Aruguments\r\n"
   ]
  },
  {
   "cell_type": "markdown",
   "id": "fa2f02c3-888c-4845-aa70-852704238839",
   "metadata": {},
   "source": [
    "Information can be passed into functions as arguments.\n",
    "\n",
    "Arguments are specified after the function name, inside the () and we can add as many arguments as we can just seprate them with Comma.\n",
    "\n",
    "A function can have arguments, An arugument is a value that is accepeted by a function.\n",
    "    \n",
    "Arguments are the values that are passed to a function when it is called.\n",
    "    \n",
    "They provide the data that the function needs to perform its task. Python offers two main types of arguments:"
   ]
  },
  {
   "cell_type": "code",
   "execution_count": 32,
   "id": "d9adbc4d-863a-42eb-a05a-cb56694f9726",
   "metadata": {},
   "outputs": [
    {
     "name": "stdout",
     "output_type": "stream",
     "text": [
      " My name is `vamu` and i am passionate about `Data Scientist`.\n"
     ]
    }
   ],
   "source": [
    "# Example Program - 1\n",
    "def myself(name, passion): # ---> 2 Arguments are passed       \n",
    "    print(f\" My name is {name} and i am passionate about {passion}\")\n",
    "\n",
    "myself(\"`vamu`\", \"`Data Scientist`.\")"
   ]
  },
  {
   "cell_type": "code",
   "execution_count": 34,
   "id": "2061c97a-86f4-45b3-ae15-eddb97e5a2dc",
   "metadata": {},
   "outputs": [
    {
     "name": "stdout",
     "output_type": "stream",
     "text": [
      "MUL: 5063\n",
      "MUL: 3692\n",
      "MUL: vamu vamu vamu \n"
     ]
    }
   ],
   "source": [
    "# Example Program - 2\n",
    "def mul_num(num1, num2):\n",
    "    mul = num1 * num2\n",
    "    print(\"MUL:\",mul)\n",
    "def mul_str(name,num):\n",
    "    str1 = name * num\n",
    "    print(\"MUL:\",str1)\n",
    "\n",
    "mul_num(83, 61)\n",
    "mul_num(52, 71)\n",
    "mul_str(f\"{name} \" *3, 1)"
   ]
  },
  {
   "cell_type": "markdown",
   "id": "5ca55531-fd25-4171-802f-496136f704ef",
   "metadata": {},
   "source": [
    "## Types Of Arguments"
   ]
  },
  {
   "cell_type": "markdown",
   "id": "d22d7fba-c3bf-4106-976e-8fbea844f93a",
   "metadata": {},
   "source": [
    "\n",
    "#### 1. Required Arguments:"
   ]
  },
  {
   "cell_type": "markdown",
   "id": "f1dcc6e5-0d04-4f53-a94a-5dca179ad564",
   "metadata": {},
   "source": [
    ". These arguments must be provided when the function is called.\n",
    "\n",
    ". The number and order of required arguments must match the definition of the function.\n"
   ]
  },
  {
   "cell_type": "code",
   "execution_count": 43,
   "id": "0926b794-a9b2-45ec-acd5-75b74e862e0f",
   "metadata": {},
   "outputs": [
    {
     "name": "stdout",
     "output_type": "stream",
     "text": [
      "Hello, vamshi!\n"
     ]
    }
   ],
   "source": [
    "# Example Program\n",
    "def arg(name):\n",
    "    print(\"Hello, \" + name + \"!\")\n",
    "\n",
    "arg('vamshi')  # Required argument: \"vamu\""
   ]
  },
  {
   "cell_type": "markdown",
   "id": "2065645e-e39a-4631-8480-9cd79bde8677",
   "metadata": {},
   "source": [
    "#### 2. Keyword Arguments:"
   ]
  },
  {
   "cell_type": "markdown",
   "id": "788f59eb-7b28-4fe8-856d-7de6f5944d58",
   "metadata": {},
   "source": [
    ". Keyword arguments are passed by explicitly stating the parameter name and its corresponding value.\n",
    "    \n",
    ". This allows you to pass arguments in any order.\n",
    "    \n",
    ". These arguments are specified by name, along with their values, when calling the function.\n",
    "    \n",
    ". The order of keyword arguments doesn't matter."
   ]
  },
  {
   "cell_type": "code",
   "execution_count": 66,
   "id": "ea727508-c90a-41e0-a8df-d43a9f5d9871",
   "metadata": {},
   "outputs": [
    {
     "name": "stdout",
     "output_type": "stream",
     "text": [
      "Hello myself i am vamshi! and i am 21 years old.\n"
     ]
    }
   ],
   "source": [
    "# Example Program\n",
    "def greet(name, age):\n",
    "    print(\"Hello myself i am \" + name +\"!\" +\" and i am \"+ str(age) + \" years old.\")\n",
    "\n",
    "greet(name = 'vamshi' , age = 21)"
   ]
  },
  {
   "cell_type": "markdown",
   "id": "efee18a6-a107-41ec-82f2-e1ca274bf7b1",
   "metadata": {},
   "source": [
    "## 3. Default Arguments:"
   ]
  },
  {
   "cell_type": "markdown",
   "id": "1cba6ca4-5287-4dd7-ae94-f9ca124f473d",
   "metadata": {},
   "source": [
    ". Default arguments are assgined a default vale in a function defination.\n",
    "\n",
    ". If a default argument is not provided when the function is called,its default value is used."
   ]
  },
  {
   "cell_type": "code",
   "execution_count": 70,
   "id": "6cc09647-3202-4f4b-89aa-621cbdafc4e9",
   "metadata": {},
   "outputs": [
    {
     "name": "stdout",
     "output_type": "stream",
     "text": [
      "Hello myself i am vamshi! and i am 21 years old.\n",
      "Hello myself i am vamu! and i am 21 years old.\n"
     ]
    }
   ],
   "source": [
    "# Example Program\n",
    "def greet(name,age = 21):\n",
    "    print(\"Hello myself i am \" + name +\"!\" + \" and i am \"+ str(age) + \" years old.\")\n",
    "\n",
    "greet(\"vamshi\")\n",
    "greet(\"vamu\", 21)"
   ]
  },
  {
   "cell_type": "markdown",
   "id": "18ee2ca6-a77d-42b3-8954-afe85bd36599",
   "metadata": {},
   "source": [
    "## 4. Arbitary Arguments:"
   ]
  },
  {
   "cell_type": "markdown",
   "id": "82f312cd-b039-4af6-b977-b8f6f5d22f15",
   "metadata": {},
   "source": [
    ". These arguments allow a function to accept any number of arguments.\n",
    "\n",
    ". They are prefixed with an asterisk (*) in the function definition.\n",
    "    \n",
    ". Arguments,args & kwargs` - **kwargs is for keyword arguments."
   ]
  },
  {
   "cell_type": "code",
   "execution_count": null,
   "id": "2e9d80fa-4e11-439b-a1b9-7e790f0d6678",
   "metadata": {},
   "outputs": [],
   "source": [
    "# Example Program\n",
    "def index(*names):\n",
    "    print(\"My name is \"+ names[2])\n",
    "\n",
    "index(\"vamu\", \"Drlg\", \"vamshi\")"
   ]
  },
  {
   "cell_type": "markdown",
   "id": "bc175062-4259-4dc9-995b-2e4ed684288d",
   "metadata": {},
   "source": [
    "### **kwargs: Keyword Variable Arguments"
   ]
  },
  {
   "cell_type": "markdown",
   "id": "a74143ec-d3ac-4c15-bcc8-b495b10b8588",
   "metadata": {},
   "source": [
    ". We can also send arguments with the key == value syntax.\n",
    "\n",
    ". If we do not know how many keywords arguments that will be passed into our function, add two ** before the parameter name in the function defination.\n",
    "\n",
    ". Allows us to pass a varibale number of keywords arguments.\n",
    "\n",
    ". If the number of keywords arguments is unkonwn, add a double ** before the parameter name"
   ]
  },
  {
   "cell_type": "code",
   "execution_count": 78,
   "id": "0a0f63ce-7216-4b96-946d-846e5f9d50e6",
   "metadata": {},
   "outputs": [
    {
     "name": "stdout",
     "output_type": "stream",
     "text": [
      "Hello i am laxman\n"
     ]
    }
   ],
   "source": [
    "# Example Program\n",
    "def flnames(**names):\n",
    "    print(\"Hello i am \" + names[\"lname\"])\n",
    "\n",
    "flnames(fname = \"siddu\" , lname = \"laxman\")"
   ]
  },
  {
   "cell_type": "markdown",
   "id": "072c2de9-9e01-4af1-809c-b87bdfa3db07",
   "metadata": {},
   "source": [
    "## Key Points:"
   ]
  },
  {
   "cell_type": "markdown",
   "id": "dc89fe09-4a1c-48d4-93da-d5a1588d8e0b",
   "metadata": {},
   "source": [
    ". Functions can have both required and keyword arguments.\n",
    "    \n",
    ". Default arguments provide flexibility in function calls.\n",
    "    \n",
    ". Arbitrary arguments allow for dynamic argument lists.\n",
    "\n",
    ". The order of arguments matters for required and positional arguments.\n",
    "\n",
    ". Keyword arguments can be passed in any order\n"
   ]
  },
  {
   "cell_type": "markdown",
   "id": "76a2a821-b19f-4160-b49a-52e7d16e379b",
   "metadata": {},
   "source": [
    "## return Statement in python"
   ]
  },
  {
   "cell_type": "markdown",
   "id": "f2f1d235-e6b3-482e-a279-7a7f3fc41788",
   "metadata": {},
   "source": [
    ". A pyhton function may or may not return a value. If we waant our function to return some value to a function call, we use the return statement.\n",
    "\n",
    ". The return statement in Pyton is used within a function to exit the function and optionally pass back a value to the caller. it is a key component in defining how a function outputs results,"
   ]
  },
  {
   "cell_type": "markdown",
   "id": "6fbc6d21-fc6b-418e-af00-ccc4e629bf8f",
   "metadata": {},
   "source": [
    "## Syntax"
   ]
  },
  {
   "cell_type": "code",
   "execution_count": 85,
   "id": "767457ce-0f56-4852-96e2-3dc55e60d5b6",
   "metadata": {},
   "outputs": [],
   "source": [
    "def function_name(parameters):\n",
    "    return value "
   ]
  },
  {
   "cell_type": "markdown",
   "id": "85b3d6d9-f682-44a3-a045-3f34f8d36d8b",
   "metadata": {},
   "source": [
    ". The return statement is fundamental for controlling the flow of a function and passing back the results to the caller."
   ]
  },
  {
   "cell_type": "code",
   "execution_count": 88,
   "id": "8d581c3b-e1c1-4901-8fe4-269d822ce5e4",
   "metadata": {},
   "outputs": [
    {
     "data": {
      "text/plain": [
       "4"
      ]
     },
     "execution_count": 88,
     "metadata": {},
     "output_type": "execute_result"
    }
   ],
   "source": [
    "# Example Program\n",
    "def find_square(num):\n",
    "    result = num * num\n",
    "    return result\n",
    "find_square(2)"
   ]
  },
  {
   "cell_type": "markdown",
   "id": "de715d19-c473-4ee3-9a2a-a62c0239f606",
   "metadata": {},
   "source": [
    "## Python Library Functions"
   ]
  },
  {
   "cell_type": "markdown",
   "id": "1eae0f94-a1a4-4b97-94e0-c156b5a380c7",
   "metadata": {},
   "source": [
    ". Python librabry functions are buit-in functions provided by Python's standard librabry or by external librabries that we can install.\n",
    "\n",
    ". Thse functions are pre-defined, meaning we don't need to implement them yourself, we just need to import the relevant module or library and call the function.\n",
    "\n",
    ". In pyhton there are some standard library functions are the built-in functions that can be used directly in our progra.\n",
    "\n",
    ". print() - Prints the string inside the quotation marks.\n",
    "\n",
    ". sqrt() - Returns the square root of a number.\n",
    "\n",
    ". pow()- Returns the power of a number.\n",
    "\n",
    ". str()- Returns the string.\n",
    "\n",
    ". These library functions are the defined inside the module and to use them we must include the module inside our program."
   ]
  },
  {
   "cell_type": "code",
   "execution_count": 94,
   "id": "b48d0c2f-74f4-4489-8aee-4d4fda80fbf8",
   "metadata": {},
   "outputs": [
    {
     "name": "stdout",
     "output_type": "stream",
     "text": [
      "Square Root of 4 is  2.0\n",
      "2 to the power 3 is 8\n"
     ]
    }
   ],
   "source": [
    "# For example, sqt() is defined inside the math module,\n",
    "# Example Program - 1\n",
    "import math\n",
    "square_root = math.sqrt(4)\n",
    "print(\"Square Root of 4 is \", square_root)\n",
    "power = pow(2,3)\n",
    "print(\"2 to the power 3 is\", power)"
   ]
  },
  {
   "cell_type": "code",
   "execution_count": 96,
   "id": "868e6f65-28e7-4073-910f-ded9ef990be6",
   "metadata": {},
   "outputs": [
    {
     "name": "stdout",
     "output_type": "stream",
     "text": [
      "3.1622776601683795\n",
      "5\n",
      "2024-08-31 12:18:02.341312\n"
     ]
    }
   ],
   "source": [
    "# Example program - 2\n",
    "import math\n",
    "import random\n",
    "import datetime\n",
    "\n",
    "print(math.sqrt(10))\n",
    "\n",
    "print(random.randint(1, 10))\n",
    "\n",
    "print(datetime.datetime.now())"
   ]
  },
  {
   "cell_type": "markdown",
   "id": "dd011dd9-d97c-40cf-9f03-e6e77e3f9963",
   "metadata": {},
   "source": [
    "## Python Lambda"
   ]
  },
  {
   "cell_type": "markdown",
   "id": "0063600e-f46e-4a75-ad17-c47046818909",
   "metadata": {},
   "source": [
    "A lambda function in python is a samll, anonymous function that is defined using the lambda keyword.\n",
    "\n",
    "A lambda function is a samll anonymous function.\n",
    "\n",
    "A lambda function can take any number of arguments, but can only have on e expression.\n"
   ]
  },
  {
   "cell_type": "markdown",
   "id": "0871dae1-418e-4c53-96a7-d1f4f74fe517",
   "metadata": {},
   "source": [
    "\n",
    "## Syntax"
   ]
  },
  {
   "cell_type": "markdown",
   "id": "7c404434-f1a0-4721-88a7-b03d208510ae",
   "metadata": {},
   "source": [
    "lambda arguments : expression\n"
   ]
  },
  {
   "cell_type": "markdown",
   "id": "973a56d5-0bf0-4a0e-916d-83bbaf17503f",
   "metadata": {},
   "source": [
    "## Key Characteristics:"
   ]
  },
  {
   "cell_type": "markdown",
   "id": "2dae1cf6-28f2-48e5-8e7c-8d8c1d4f0fc7",
   "metadata": {},
   "source": [
    "Anonymous: Lambda functions don't have a name (unlike regular functions defined with def).\n",
    "\r\n",
    "Single Expression: They can only contain a single expression, which is evaluated and returned.\n",
    "\r\n",
    "Use Cases: Often used for short, simple operations, typically in places where you need a small function for a short period (e.g., as arguments to functions like map(), filter(), or sorted())."
   ]
  },
  {
   "cell_type": "code",
   "execution_count": 109,
   "id": "94532d75-dd85-4e47-b0be-8c579782072f",
   "metadata": {},
   "outputs": [
    {
     "name": "stdout",
     "output_type": "stream",
     "text": [
      "14\n",
      "12\n",
      "4\n"
     ]
    }
   ],
   "source": [
    "# Example Program - 1\n",
    "x = lambda a : a + 9 \n",
    "print(x(5))\n",
    "\n",
    "# Example Program - 2\n",
    "y = lambda a, b, c : a + b + c\n",
    "print(y(2 , 4 , 6))\n",
    "\n",
    "# Example Program - 3\n",
    "def greet(n):\n",
    "    return lambda a : a * n\n",
    "\n",
    "mul = greet(2)\n",
    "print(mul(2))"
   ]
  },
  {
   "cell_type": "markdown",
   "id": "d112cd46-f0d7-4b7f-9b24-58c47c21111e",
   "metadata": {},
   "source": [
    "### Why Use Lambda Function ?"
   ]
  },
  {
   "cell_type": "markdown",
   "id": "095bbd4c-725d-4e39-b3d9-8e213a0ca852",
   "metadata": {},
   "source": [
    "The power of lambda is better shown when you use them as an anonymous function inside another function.\n",
    "Say you have a function definition that takes one argument, and that argument will be multiplied with an unknown number:"
   ]
  },
  {
   "cell_type": "code",
   "execution_count": 114,
   "id": "9358f88e-d3db-4385-a8d4-d01861dabfe9",
   "metadata": {},
   "outputs": [
    {
     "name": "stdout",
     "output_type": "stream",
     "text": [
      "22\n",
      "33\n"
     ]
    }
   ],
   "source": [
    "# Example Program \n",
    "def num(n):\n",
    "        return lambda a : a * n\n",
    "\n",
    "mydoub = num(2)\n",
    "mytrip = num(3)\n",
    "\n",
    "print(mydoub(11))\n",
    "print(mytrip(11))"
   ]
  },
  {
   "cell_type": "markdown",
   "id": "c32e9dd8-fef5-4a98-84ce-5043da162c55",
   "metadata": {},
   "source": [
    "## 1. Lambda Function With map():"
   ]
  },
  {
   "cell_type": "markdown",
   "id": "236f0313-28d9-4fb8-a162-1ab0f9ec2815",
   "metadata": {},
   "source": [
    "The map() function in Python is used to apply a given function to all items in an iterable (like a list or tuple) and return a map object, which can be converted into a list or other iterable type.\n",
    "\n",
    "When combined with a lambda function, map() allows you to apply a small, anonymous function to each item in the iterable."
   ]
  },
  {
   "cell_type": "markdown",
   "id": "b406fa42-a596-45b9-8a78-bfd98b9ac1d1",
   "metadata": {},
   "source": [
    "## Syntax of map():"
   ]
  },
  {
   "cell_type": "markdown",
   "id": "1bcb92c4-28f6-4250-90fd-29b4aa7ee068",
   "metadata": {},
   "source": [
    "map(function, iterable)\n"
   ]
  },
  {
   "cell_type": "markdown",
   "id": "06053a37-e48a-4e9a-819b-f31d56524bc0",
   "metadata": {},
   "source": [
    "function: A function to which each item of the iterable is passed.\n",
    "\n",
    "iterable: An iterable (like a list, tuple, etc.) whose items will be processed by the function."
   ]
  },
  {
   "cell_type": "code",
   "execution_count": 128,
   "id": "ba727b62-9fed-4b68-afc7-759e52b4c430",
   "metadata": {},
   "outputs": [
    {
     "name": "stdout",
     "output_type": "stream",
     "text": [
      "[1, 4, 9, 16, 25, 36]\n",
      "['APPLE', 'BANANA', 'ORANGE']\n",
      "[3, 7, 11, 15]\n"
     ]
    }
   ],
   "source": [
    "#Example - 1 (Squaring Numbers)\r\n",
    "numbers = [1,2,3,4,5,6]\r\n",
    "\r\n",
    "squared_number = list(map(lambda x:x ** 2,numbers))\r\n",
    "\r\n",
    "print(squared_number)\r\n",
    "\r\n",
    "\r\n",
    "#Example - 2 (Converting Strings to Uppercase)\r\n",
    "words = [\"apple\",\"banana\",\"orange\"]\r\n",
    "\r\n",
    "uppercase_words = list(map(lambda word:word.upper(),words))\r\n",
    "\r\n",
    "print(uppercase_words)\r\n",
    "\r\n",
    "\r\n",
    "#Example - 3 (Adding Two Lists Element-Wise)\r\n",
    "List1 = [1,3,5,7]\r\n",
    "List2 = [2,4,6,8]\r\n",
    "\r\n",
    "sum_list = list(map(lambda x, y: x + y, List1, List2))\r\n",
    "\r\n",
    "print(sum_list)\r\n"
   ]
  },
  {
   "cell_type": "markdown",
   "id": "249dff48-6e32-4bcf-9b24-19014988def1",
   "metadata": {},
   "source": [
    "## 2. Lambda Function with filter()\n"
   ]
  },
  {
   "cell_type": "markdown",
   "id": "b88c8c63-c734-465c-9cde-1b3f83d67186",
   "metadata": {},
   "source": [
    "The filter() function in Python is used to filter elements from an iterable (like a list, tuple, or set) based on a condition provided by a function.\n",
    "    \n",
    "When combined with a lambda function, filter() allows you to apply a condition to each item in the iterable and return only those items that satisfy the condition."
   ]
  },
  {
   "cell_type": "markdown",
   "id": "8af1bf53-e15e-433e-8578-91f901ba18c6",
   "metadata": {},
   "source": [
    "## Syntax of filter():"
   ]
  },
  {
   "cell_type": "code",
   "execution_count": null,
   "id": "b3bdc62c-76c8-4923-853f-92e311a1809e",
   "metadata": {},
   "outputs": [],
   "source": [
    "filter(function, iterable)"
   ]
  },
  {
   "cell_type": "markdown",
   "id": "40da1747-b7db-431b-bfbb-2d3beb3e39af",
   "metadata": {},
   "source": [
    "\n",
    "function: A function that returns True or False for each item in the iterable. Only items for which this \n",
    "\n",
    "function returns True are included in the result.\n",
    "\n",
    "iterable: An iterable whose items will be filtered based on the function."
   ]
  },
  {
   "cell_type": "code",
   "execution_count": 134,
   "id": "d0f9ea9d-1b39-404c-b62f-6ea6042c9a39",
   "metadata": {},
   "outputs": [
    {
     "name": "stdout",
     "output_type": "stream",
     "text": [
      "['apple', 'banana', 'cherry', 'pineapple']\n"
     ]
    }
   ],
   "source": [
    "# Example Program: (Filtering Strings Longer Than 3 Characters)\n",
    "\n",
    "fruits = [\"apple\",\"banana\",\"cherry\",\"dev\",\"pineapple\",\"raj\"]\n",
    "\n",
    "long_words = list(filter(lambda fruit: len(fruit) > 3, fruits))\n",
    "\n",
    "print(long_words)"
   ]
  },
  {
   "cell_type": "markdown",
   "id": "ae9d0259-a383-49c1-8d5a-62bbd07781b9",
   "metadata": {},
   "source": [
    "## 3. Lambda Function with sorted():"
   ]
  },
  {
   "cell_type": "markdown",
   "id": "291c4cbd-1b5c-453f-99cb-1490eb330815",
   "metadata": {},
   "source": [
    "The sorted() function in Python is used to sort elements of an iterable (like a list or tuple) in a specific order (ascending or descending).\n",
    "\n",
    "You can use a lambda function with sorted() to define a custom sorting key.\n",
    "\n",
    "This allows you to sort the elements based on a particular attribute or computed value."
   ]
  },
  {
   "cell_type": "markdown",
   "id": "a67c34ad-8376-4d7f-b731-e4111ac8a7af",
   "metadata": {},
   "source": [
    "## Syntax of sorted():\n"
   ]
  },
  {
   "cell_type": "code",
   "execution_count": null,
   "id": "67694069-6e00-4925-bb43-91a39e6fda62",
   "metadata": {},
   "outputs": [],
   "source": [
    "sorted(iterable, key=None, reverse=False)"
   ]
  },
  {
   "cell_type": "markdown",
   "id": "b1e5e814-b0a2-4a8c-ac9b-d81e189c8d6b",
   "metadata": {},
   "source": [
    "iterable : The iterable to be stored.\n",
    "\n",
    "key: A function that takes ine argument and returns a value to be used for storing. This is where we can use lambda function.\n",
    "\n",
    "reverse : A boolen value that, if True, sort the iterable in desciding order. defaults to False for ascending order."
   ]
  },
  {
   "cell_type": "code",
   "execution_count": 140,
   "id": "2d862401-ef7d-4874-b95d-46ad0f0c9324",
   "metadata": {},
   "outputs": [
    {
     "name": "stdout",
     "output_type": "stream",
     "text": [
      "['kiwi', 'apple', 'banana', 'cherry']\n"
     ]
    },
    {
     "data": {
      "text/plain": [
       "['kiwi', 'apple', 'banana', 'cherry']"
      ]
     },
     "execution_count": 140,
     "metadata": {},
     "output_type": "execute_result"
    }
   ],
   "source": [
    "#Example Program: (Sorting by String Length)\n",
    "\n",
    "words = ['apple', 'banana', 'kiwi', 'cherry']\n",
    "\n",
    "sorted_by_length = sorted(words, key=lambda word: len(word))\n",
    "\n",
    "print(sorted_by_length)\n",
    "['kiwi', 'apple', 'banana', 'cherry']"
   ]
  },
  {
   "cell_type": "markdown",
   "id": "c8745840-9522-4d23-9a44-59a19a95b4ba",
   "metadata": {},
   "source": [
    "## Global and Local Variables in Python"
   ]
  },
  {
   "cell_type": "markdown",
   "id": "9fadac6b-2f80-4398-94c8-20ea48d9c5a1",
   "metadata": {},
   "source": [
    "Python Global variables are those which are not defined inside any function and have a global scope whereas Python local variables are those which are defined inside a function and their scope is limited to that function only.\n",
    "\n",
    "In other words, we can say that local variables are accessible only inside the function in which it was initialized whereas the global variables are accessible throughout the program and inside every function."
   ]
  },
  {
   "cell_type": "markdown",
   "id": "774a3467-5a99-452c-97b8-a65d99660754",
   "metadata": {},
   "source": [
    "\n",
    "### Python Local Varibales"
   ]
  },
  {
   "cell_type": "markdown",
   "id": "8ab0371e-c950-4e39-94cd-e195d9955213",
   "metadata": {},
   "source": [
    "Local variables in Python are those which are initialized inside a function and belong only to that particular function. It cannot be accessed anywhere outside the function. Let’s see how to create a local variable."
   ]
  },
  {
   "cell_type": "markdown",
   "id": "d8c2134b-66cc-44ed-9afb-de4b830d55b5",
   "metadata": {},
   "source": [
    "#### Creating a Local variable\n"
   ]
  },
  {
   "cell_type": "code",
   "execution_count": 151,
   "id": "be5e2886-89cd-46f2-a074-cd939efdeaed",
   "metadata": {},
   "outputs": [
    {
     "name": "stdout",
     "output_type": "stream",
     "text": [
      "Inside the function:  Hello I am ur lovely vamu \n"
     ]
    }
   ],
   "source": [
    "# Example Program\n",
    "def f():\n",
    "    s = \" Hello I am ur lovely vamu \"\n",
    "    print(\"Inside the function:\", s)\n",
    "f()"
   ]
  },
  {
   "cell_type": "markdown",
   "id": "01ccf440-dc06-48ba-9061-7bf4a3813690",
   "metadata": {},
   "source": [
    "### Python Global Variables"
   ]
  },
  {
   "cell_type": "markdown",
   "id": "31a9f199-4267-4827-bce0-d9b337f08c40",
   "metadata": {},
   "source": [
    "These are those which are defined outside any function and which are accessible throughout the program, i.e., inside and outside of every function. Let’s see how to create a Python global variable."
   ]
  },
  {
   "cell_type": "markdown",
   "id": "7872c34a-e531-4aa1-9812-6a8161dbce7f",
   "metadata": {},
   "source": [
    "### Creating a Global variable"
   ]
  },
  {
   "cell_type": "code",
   "execution_count": 158,
   "id": "5f32c8c6-15f2-4636-82e5-344abee1fdba",
   "metadata": {},
   "outputs": [
    {
     "name": "stdout",
     "output_type": "stream",
     "text": [
      "Inside Function : Hello this is vamu\n",
      "Outside Function : Hello this is vamu\n"
     ]
    }
   ],
   "source": [
    "# example Program\n",
    "def f():\n",
    "    print(\"Inside Function :\", v)\n",
    "\n",
    "v = \"Hello this is vamu\"\n",
    "f()\n",
    "print(\"Outside Function :\", v)"
   ]
  },
  {
   "cell_type": "code",
   "execution_count": null,
   "id": "f32f28cf-d3d7-404d-819c-3c9a1b534d05",
   "metadata": {},
   "outputs": [],
   "source": []
  }
 ],
 "metadata": {
  "kernelspec": {
   "display_name": "Python 3 (ipykernel)",
   "language": "python",
   "name": "python3"
  },
  "language_info": {
   "codemirror_mode": {
    "name": "ipython",
    "version": 3
   },
   "file_extension": ".py",
   "mimetype": "text/x-python",
   "name": "python",
   "nbconvert_exporter": "python",
   "pygments_lexer": "ipython3",
   "version": "3.12.4"
  }
 },
 "nbformat": 4,
 "nbformat_minor": 5
}
