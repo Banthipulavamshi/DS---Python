{
 "cells": [
  {
   "cell_type": "markdown",
   "id": "d4a105cb-3085-418b-a53f-769fd7f06107",
   "metadata": {},
   "source": [
    "## PYTHON DICTIONARIES"
   ]
  },
  {
   "cell_type": "markdown",
   "id": "03c119f9-eadc-48e3-b9bc-867f23516bdb",
   "metadata": {},
   "source": [
    ".Dictionaries are used to store data values in key:value pairs.\n",
    ".Dictionary items are presented in key:value pairs, and can be referred to by using the key name.\n",
    ".They are defined using curly braces {} and coonsist of key-value pairs seperated by colons.\n",
    ".In Python, a dictionary is a built-in data structure that stores data in key-value pairs.\n",
    ".Dictionaries cannot have two items with the same key:"
   ]
  },
  {
   "cell_type": "markdown",
   "id": "23d82687-3ed3-4f62-8116-2b4771e8b3ab",
   "metadata": {},
   "source": [
    "## KEY POINTS"
   ]
  },
  {
   "cell_type": "code",
   "execution_count": null,
   "id": "6cd346f0-1034-4ec2-a6f8-79700e0624e6",
   "metadata": {},
   "outputs": [],
   "source": [
    ".Syntax: dict = {key: value, key: value, ...}\n",
    ".When a key doesn't exist, and we assign a value to it - it gets added to the dictionary:\n",
    ".Keys are unique: Each key must be different.\n",
    ".Values can be any data type: Numbers, strings, lists, even other dictionaries"
   ]
  },
  {
   "cell_type": "markdown",
   "id": "fa95b28e-6bce-4569-9a0d-94aadb9ce127",
   "metadata": {},
   "source": [
    "## CREATING OF DICTIONARIES"
   ]
  },
  {
   "cell_type": "code",
   "execution_count": null,
   "id": "5f4a26fc-fd43-4014-8347-c1bb8a85d8e5",
   "metadata": {},
   "outputs": [],
   "source": [
    ".A dictionary is a collection which is ordered*, changeable and do not allow duplicates."
   ]
  },
  {
   "cell_type": "code",
   "execution_count": 29,
   "id": "e6329af7-1312-4744-96d7-339b756cbf19",
   "metadata": {},
   "outputs": [
    {
     "name": "stdout",
     "output_type": "stream",
     "text": [
      "{'name': 'laxman', 'age': 21, 'grade': 'A'}\n",
      "{'name': 'laxman', 'age': 20, 'grade': [85, 90, 92]}\n"
     ]
    }
   ],
   "source": [
    "# Empty dictionary\n",
    "empty_dict = {}\n",
    "# Dictionary with key-value pairs\n",
    "student = {'name' : 'laxman', 'age' : 21,'grade' : 'A'}\n",
    "print(student)\n",
    "{'name': 'laxman', 'age': 21, 'grade': 'A'}\n",
    "# Dictionary with mixed data types\n",
    "mixed_dict = {\n",
    "    'name' : 'laxman',\n",
    "    'age' : 20,\n",
    "    'grade' : [85,90,92]\n",
    "   }\n",
    "print(mixed_dict)"
   ]
  },
  {
   "cell_type": "code",
   "execution_count": 22,
   "id": "60edf489-431c-4118-b508-6ec207e85db1",
   "metadata": {},
   "outputs": [
    {
     "name": "stdout",
     "output_type": "stream",
     "text": [
      "{'name': 'siddu', 'age': 22, 'city': 'Hydrabad'}\n"
     ]
    }
   ],
   "source": [
    "my_dict = dict(name=\"siddu\", age=22, city=\"Hydrabad\")\n",
    "\n",
    "print(my_dict)"
   ]
  },
  {
   "cell_type": "markdown",
   "id": "b1551bb4-dc75-47a0-aed9-96d667b0cac1",
   "metadata": {},
   "source": [
    "## ACCESSING VALUES"
   ]
  },
  {
   "cell_type": "code",
   "execution_count": null,
   "id": "4f0a77c1-be1a-45f2-9710-74af20627338",
   "metadata": {},
   "outputs": [],
   "source": [
    ".Accessing values in a Python dictionary is straightforward. You can retrieve values using their corresponding keys.\n",
    "\n",
    ".You can access the values in a dictionary using the Keys.\n",
    "\n",
    ".Here are different ways to access values in dictionaries:"
   ]
  },
  {
   "cell_type": "code",
   "execution_count": null,
   "id": "8f3a6bf1-227a-4bd7-8b13-11636d66b909",
   "metadata": {},
   "outputs": [],
   "source": []
  },
  {
   "cell_type": "markdown",
   "id": "f3fb2056-d9a7-43ff-a59e-e1f9a20c0790",
   "metadata": {},
   "source": [
    "## SYNTAX :"
   ]
  },
  {
   "cell_type": "code",
   "execution_count": null,
   "id": "4a20396b-6dec-4bfb-a05d-8a7deebc34ae",
   "metadata": {},
   "outputs": [],
   "source": [
    "dictionary_name[key]"
   ]
  },
  {
   "cell_type": "code",
   "execution_count": 32,
   "id": "51fb3dab-8b3d-44c5-998f-1eb160712813",
   "metadata": {},
   "outputs": [
    {
     "name": "stdout",
     "output_type": "stream",
     "text": [
      "{'name': 'laxman', 'age': 21, 'grade': 'A'}\n"
     ]
    }
   ],
   "source": [
    "# Dictionary with key-value pairs\n",
    "student = {'name' : 'laxman', 'age' : 21,'grade' : 'A'}\n",
    "print(student)\n"
   ]
  },
  {
   "cell_type": "code",
   "execution_count": null,
   "id": "62fcaa84-1a8f-4372-ab03-14e3861f755e",
   "metadata": {},
   "outputs": [],
   "source": []
  },
  {
   "cell_type": "code",
   "execution_count": 35,
   "id": "4932ec43-8487-4398-927b-2bb006c215ee",
   "metadata": {},
   "outputs": [
    {
     "name": "stdout",
     "output_type": "stream",
     "text": [
      "{'name': 'laxman', 'age': 20, 'grade': [85, 90, 92]}\n"
     ]
    }
   ],
   "source": [
    "# Dictionary with mixed data types\n",
    "mixed_dict = {\n",
    "    'name' : 'laxman',\n",
    "    'age' : 20,\n",
    "    'grade' : [85,90,92]\n",
    "   }\n",
    "print(mixed_dict)"
   ]
  },
  {
   "cell_type": "code",
   "execution_count": null,
   "id": "fb389607-3958-4523-889e-9274e85cd688",
   "metadata": {},
   "outputs": [],
   "source": []
  },
  {
   "cell_type": "code",
   "execution_count": 40,
   "id": "57337a05-79a3-4f77-9188-944bc8108dc2",
   "metadata": {},
   "outputs": [
    {
     "name": "stdout",
     "output_type": "stream",
     "text": [
      "laxman\n",
      "[85, 90, 92]\n"
     ]
    }
   ],
   "source": [
    "# accessing elements\n",
    "print(student['name'])\n",
    "print(mixed_dict['grade'])"
   ]
  },
  {
   "cell_type": "code",
   "execution_count": null,
   "id": "2b6cf1de-2547-49a3-86ab-c336c19cfe1c",
   "metadata": {},
   "outputs": [],
   "source": []
  },
  {
   "cell_type": "code",
   "execution_count": 43,
   "id": "38eef0ee-fab9-4a06-9391-fafd2ba583a9",
   "metadata": {},
   "outputs": [
    {
     "name": "stdout",
     "output_type": "stream",
     "text": [
      "siddu\n",
      "22\n"
     ]
    }
   ],
   "source": [
    "my_dict = {\"name\": \"siddu\", \"age\": 22, \"city\": \"nirmal\"}\n",
    "print(my_dict[\"name\"]) \n",
    "print(my_dict[\"age\"])   "
   ]
  },
  {
   "cell_type": "code",
   "execution_count": null,
   "id": "6d022099-0a22-4546-a534-21b6d47ee84a",
   "metadata": {},
   "outputs": [],
   "source": []
  },
  {
   "cell_type": "markdown",
   "id": "461c7adc-dc2a-48c1-bc52-706546f757d4",
   "metadata": {},
   "source": [
    "## Modifying and Adding Entries:"
   ]
  },
  {
   "cell_type": "code",
   "execution_count": null,
   "id": "9b63a748-0771-49fd-b945-d36683c5a9ef",
   "metadata": {},
   "outputs": [],
   "source": [
    ".Adding an item to the dictionary is done by using a new index key and assigning a value to it:\n",
    ".The update() method will update the dictionary with the items from a given argument. If the item does not exist, the item will be added."
   ]
  },
  {
   "cell_type": "code",
   "execution_count": 49,
   "id": "f203adb1-1452-41b5-ae62-d955fb368613",
   "metadata": {},
   "outputs": [
    {
     "data": {
      "text/plain": [
       "{'name': 'siddu', 'age': 22, 'grade': 'A'}"
      ]
     },
     "execution_count": 49,
     "metadata": {},
     "output_type": "execute_result"
    }
   ],
   "source": [
    "# Dictionary with key_value pairs\n",
    "student = {\n",
    "    'name' : 'siddu',\n",
    "    'age' : 22,\n",
    "    'grade' : 'A',\n",
    "}\n",
    "student"
   ]
  },
  {
   "cell_type": "code",
   "execution_count": 51,
   "id": "5506a08b-1152-4e94-906e-a2f2a5e83d15",
   "metadata": {},
   "outputs": [
    {
     "data": {
      "text/plain": [
       "{'name': 'siddu', 'age': 26, 'grade': 'A'}"
      ]
     },
     "execution_count": 51,
     "metadata": {},
     "output_type": "execute_result"
    }
   ],
   "source": [
    "# Modifying an entry\n",
    "student['age'] = 26\n",
    "student"
   ]
  },
  {
   "cell_type": "code",
   "execution_count": 53,
   "id": "f212602e-7b4d-4118-a9f5-0854520c530f",
   "metadata": {},
   "outputs": [
    {
     "data": {
      "text/plain": [
       "{'name': 'siddu',\n",
       " 'age': 26,\n",
       " 'grade': 'A',\n",
       " 'gender': 'Female',\n",
       " 'Qualification': 'B.Tech'}"
      ]
     },
     "execution_count": 53,
     "metadata": {},
     "output_type": "execute_result"
    }
   ],
   "source": [
    "# Adding a new entry\n",
    "student['gender'] = 'Female'\n",
    "student['Qualification'] = 'B.Tech'\n",
    "student"
   ]
  },
  {
   "cell_type": "code",
   "execution_count": 55,
   "id": "69e15ed4-3e4b-40ce-836c-1f94e3b515df",
   "metadata": {},
   "outputs": [
    {
     "name": "stdout",
     "output_type": "stream",
     "text": [
      "{'name': 'balu', 'age': 23, 'city': 'Hydrabad'}\n"
     ]
    }
   ],
   "source": [
    "my_dict = {\"name\": \"balu\", \"age\": 23, \"city\": \"Hydrabad\"}\n",
    "my_dict[\"age\"] = 23  \n",
    "print(my_dict)"
   ]
  },
  {
   "cell_type": "code",
   "execution_count": null,
   "id": "024b2c4e-b76d-4661-8193-531b424be0f4",
   "metadata": {},
   "outputs": [],
   "source": []
  },
  {
   "cell_type": "code",
   "execution_count": null,
   "id": "3afe0005-5c40-4994-bb45-3db99df7b970",
   "metadata": {},
   "outputs": [],
   "source": [
    "      Method\t     Description\n",
    "\n",
    "       get()\tReturns the value of the specified key\n",
    "\n",
    "      keys()\tReturns a list containing the dictionary's keys\n",
    "\n",
    "    values()\tReturns a list of all the values in the dictionary\n",
    "\n",
    "     items()\tReturns a list containing a tuple for each key value pair\n",
    "\n",
    "       pop()\tRemoves the element with the specified key\n",
    "\n",
    "   popitem()\tRemoves the last inserted key-value pair\n",
    "\n",
    "    update()\tUpdates the dictionary with the specified key-value pairs\n",
    "\n",
    "    clear() \tRemoves all the elements from the dicitionary\n",
    "\n",
    "    copy()  \tReturns a copy of the dictionary\n",
    "\n",
    "  fromkeys()\tReturns a dictionary with the specified keys and value\n",
    "\n",
    "setdefault()\tReturns the value of the specified key. If the key does not exist: insert the key, with the specified value"
   ]
  },
  {
   "cell_type": "code",
   "execution_count": null,
   "id": "10a515f4-dd66-4bcc-a1cd-36f1dd1632de",
   "metadata": {},
   "outputs": [],
   "source": []
  },
  {
   "cell_type": "markdown",
   "id": "311e86f2-60ab-4795-a273-e750c3442574",
   "metadata": {},
   "source": [
    "## Dictionary Methods"
   ]
  },
  {
   "cell_type": "code",
   "execution_count": null,
   "id": "ffbecab2-99b2-4ddb-b402-cb4bcf52adbd",
   "metadata": {},
   "outputs": [],
   "source": [
    ".Python offers a variety of methods to manipulate dictionaries efficiently. Here's a breakdown of some common ones:"
   ]
  },
  {
   "cell_type": "markdown",
   "id": "fbf0f003-a28e-495f-b013-0c7da9131ed1",
   "metadata": {},
   "source": [
    "## 1. get():\n"
   ]
  },
  {
   "cell_type": "code",
   "execution_count": null,
   "id": "dc1e27c4-f65b-4ee1-a3ec-94a9d2343c06",
   "metadata": {},
   "outputs": [],
   "source": [
    ".The get() method returns the value of the item with the specified key.\n",
    "\n",
    ".It allows you to provide a default value if the key in not found.\n"
   ]
  },
  {
   "cell_type": "markdown",
   "id": "bf74c179-fa69-4611-ac44-bdc10b843051",
   "metadata": {},
   "source": [
    "## Syntax"
   ]
  },
  {
   "cell_type": "code",
   "execution_count": null,
   "id": "1d228074-2b0c-4d83-99c1-5eedfb992756",
   "metadata": {},
   "outputs": [],
   "source": [
    ".dictionary.get(keyname, value)"
   ]
  },
  {
   "cell_type": "code",
   "execution_count": 82,
   "id": "8b258f2f-2b40-4790-85f1-d2c8711c599c",
   "metadata": {},
   "outputs": [],
   "source": [
    "g = student.get('laptop','no laptop')\n",
    "gender = student.get('gender','Not Specified')\n",
    "h = student.get('location','Location Not Found')"
   ]
  },
  {
   "cell_type": "code",
   "execution_count": null,
   "id": "9dd9b560-4bd1-4423-a625-45673412603b",
   "metadata": {},
   "outputs": [],
   "source": [
    "print(g)\n",
    "print(gender)\n",
    "print(h)     \n"
   ]
  },
  {
   "cell_type": "code",
   "execution_count": null,
   "id": "ccbd3a2f-e6fe-444b-91f6-0ad4f0d4358b",
   "metadata": {},
   "outputs": [],
   "source": [
    "A\n",
    "Female\n",
    "Location Not Found\n"
   ]
  },
  {
   "cell_type": "markdown",
   "id": "edce8564-b4eb-47ad-9eaf-50f2ea362ef2",
   "metadata": {},
   "source": [
    "## 2. keys():"
   ]
  },
  {
   "cell_type": "code",
   "execution_count": null,
   "id": "c8e41d20-bfb9-4997-8124-0fa678d804fe",
   "metadata": {},
   "outputs": [],
   "source": [
    "\n",
    ".The keys() method returns a view object. The view object contains the keys of the dictionary, as a list.\n",
    "\n",
    ".The view object will reflect any changes done to the dictionary.\n",
    "\n",
    ".It Returns a view of all the keys in the dictionary\n",
    "\n"
   ]
  },
  {
   "cell_type": "markdown",
   "id": "ad547cbe-736d-49bc-87bc-0837723a4ac1",
   "metadata": {},
   "source": [
    "## Syntax"
   ]
  },
  {
   "cell_type": "code",
   "execution_count": null,
   "id": "bf580d8c-e7ca-46ed-807d-b17163dcab73",
   "metadata": {},
   "outputs": [],
   "source": [
    "dictionary.keys()"
   ]
  },
  {
   "cell_type": "code",
   "execution_count": 91,
   "id": "7fb097cb-bfd9-494a-a5b7-74193f4dadd1",
   "metadata": {},
   "outputs": [
    {
     "name": "stdout",
     "output_type": "stream",
     "text": [
      "dict_keys(['name', 'age', 'grade', 'gender', 'Qualification'])\n"
     ]
    }
   ],
   "source": [
    "\n",
    "keys = student.keys()\n",
    "print(keys)"
   ]
  },
  {
   "cell_type": "code",
   "execution_count": 93,
   "id": "126d4f97-3fcc-4f68-908a-9e196653c88b",
   "metadata": {},
   "outputs": [
    {
     "name": "stdout",
     "output_type": "stream",
     "text": [
      "dict_keys(['name', 'age', 'city'])\n"
     ]
    }
   ],
   "source": [
    "my_dict = {'name': 'bunty', 'age': 22, 'city': 'bhainsa'}\n",
    "keys = my_dict.keys()\n",
    "print(keys) "
   ]
  },
  {
   "cell_type": "markdown",
   "id": "8830070e-8da2-4c9b-bacc-dbe1ce07f6f0",
   "metadata": {},
   "source": [
    "## 3. values:"
   ]
  },
  {
   "cell_type": "code",
   "execution_count": null,
   "id": "f65f3dcf-da77-42f7-9eb4-307ea4489430",
   "metadata": {},
   "outputs": [],
   "source": [
    "\n",
    ".The values() method returns a view object. The view object contains the values of the dictionary, as a list.\n",
    "\n",
    ".He view object will reflect any changes done to the dictionary.\n",
    "\n",
    ".Returns a view of all the values in dictionary\n"
   ]
  },
  {
   "cell_type": "markdown",
   "id": "912a2526-e687-4df6-aafe-e4e45575efac",
   "metadata": {},
   "source": [
    "## Syntax"
   ]
  },
  {
   "cell_type": "code",
   "execution_count": null,
   "id": "96511951-e615-40de-8a5b-c5f6c0e5741b",
   "metadata": {},
   "outputs": [],
   "source": [
    "dictionary.values()"
   ]
  },
  {
   "cell_type": "code",
   "execution_count": 100,
   "id": "30670b57-c50e-4225-b47d-808edb075527",
   "metadata": {},
   "outputs": [
    {
     "name": "stdout",
     "output_type": "stream",
     "text": [
      "dict_values(['siddu', 26, 'A', 'Female', 'B.Tech'])\n"
     ]
    }
   ],
   "source": [
    "\n",
    "values = student.values()\n",
    "print(values)\n"
   ]
  },
  {
   "cell_type": "code",
   "execution_count": 102,
   "id": "da9d4209-a423-403c-b3bd-a2becf268b0a",
   "metadata": {},
   "outputs": [
    {
     "name": "stdout",
     "output_type": "stream",
     "text": [
      "dict_values(['BMW', 'XUV200', 2018])\n"
     ]
    }
   ],
   "source": [
    "\n",
    "car = {\n",
    "  \"brand\": \"BMW\",\n",
    "  \"model\": \"XUV200\",\n",
    "  \"year\": 1964\n",
    "}\n",
    "\n",
    "x = car.values()\n",
    "\n",
    "car[\"year\"] = 2018\n",
    "\n",
    "print(x)"
   ]
  },
  {
   "cell_type": "markdown",
   "id": "3dbec41d-49eb-4e33-8ce5-a090a27aa6d1",
   "metadata": {},
   "source": [
    "## 4. items():"
   ]
  },
  {
   "cell_type": "code",
   "execution_count": null,
   "id": "d34994c4-2f82-403d-ba1c-c2bd2449c594",
   "metadata": {},
   "outputs": [],
   "source": [
    ".The items() method returns a view object. The view object contains the key-value pairs of the dictionary, as tuples in a list.\n",
    "\n",
    ".The view object will reflect any changes done to the dictionary.\n",
    "\n",
    ".Returns a view of all key-value for a specified key.\n"
   ]
  },
  {
   "cell_type": "markdown",
   "id": "4a5fc0b3-4aa2-43bb-89bd-3ac4c162b730",
   "metadata": {},
   "source": [
    "## Syntax\r\n"
   ]
  },
  {
   "cell_type": "code",
   "execution_count": null,
   "id": "7b4671f8-938e-4f47-96ba-c6ba16a1b3f0",
   "metadata": {},
   "outputs": [],
   "source": [
    "dictionary.items()"
   ]
  },
  {
   "cell_type": "code",
   "execution_count": 106,
   "id": "b24c9ce1-a270-422e-9892-87538cf6c4ce",
   "metadata": {},
   "outputs": [
    {
     "data": {
      "text/plain": [
       "dict_items([('name', 'siddu'), ('age', 26), ('grade', 'A'), ('gender', 'Female'), ('Qualification', 'B.Tech')])"
      ]
     },
     "execution_count": 106,
     "metadata": {},
     "output_type": "execute_result"
    }
   ],
   "source": [
    "items = student.items()\n",
    "items"
   ]
  },
  {
   "cell_type": "code",
   "execution_count": 110,
   "id": "d9c39541-b54e-4acb-a572-b2020a1c588c",
   "metadata": {},
   "outputs": [
    {
     "name": "stdout",
     "output_type": "stream",
     "text": [
      "dict_items([('name', 'mani'), ('age', 22), ('city', 'USA')])\n"
     ]
    }
   ],
   "source": [
    "\n",
    "my_dict = {'name': 'mani', 'age': 22, 'city': 'USA'}\n",
    "items = my_dict.items()\n",
    "print(items)\n"
   ]
  },
  {
   "cell_type": "markdown",
   "id": "b494e963-ee7e-4b1a-a5f4-e67dd2bc18aa",
   "metadata": {},
   "source": [
    "## 5. pop():"
   ]
  },
  {
   "cell_type": "code",
   "execution_count": null,
   "id": "c9dacefd-c046-40cb-bf2f-b63b4d5bb7b8",
   "metadata": {},
   "outputs": [],
   "source": [
    "dictionary.pop(keyname, defaultvalue)"
   ]
  },
  {
   "cell_type": "code",
   "execution_count": 115,
   "id": "0e176cbc-ac7d-42b8-888e-3a993923c9e4",
   "metadata": {},
   "outputs": [
    {
     "data": {
      "text/plain": [
       "{'name': 'vamshi', 'age': 22, 'grades': [85, 90, 92]}"
      ]
     },
     "execution_count": 115,
     "metadata": {},
     "output_type": "execute_result"
    }
   ],
   "source": [
    "mixed_dict = {\n",
    "    'name' : 'vamshi',\n",
    "    'age' : 22,\n",
    "    'grades' : [85,90,92]\n",
    "}\n",
    "mixed_dict"
   ]
  },
  {
   "cell_type": "code",
   "execution_count": 117,
   "id": "7224a41a-a149-4cd3-b103-fc12dad03c96",
   "metadata": {},
   "outputs": [
    {
     "name": "stdout",
     "output_type": "stream",
     "text": [
      "22\n"
     ]
    }
   ],
   "source": [
    "\n",
    "age = mixed_dict.pop('age')\n",
    "print(age)\n"
   ]
  },
  {
   "cell_type": "code",
   "execution_count": 119,
   "id": "fc5eaa19-ce22-453d-83cf-f40b5faa109b",
   "metadata": {},
   "outputs": [
    {
     "name": "stdout",
     "output_type": "stream",
     "text": [
      "{'name': 'vamshi', 'grades': [85, 90, 92]}\n"
     ]
    }
   ],
   "source": [
    "print(mixed_dict)\n"
   ]
  },
  {
   "cell_type": "code",
   "execution_count": 121,
   "id": "4c5d4a26-836f-408c-8f7e-60881b744b0b",
   "metadata": {},
   "outputs": [
    {
     "ename": "TypeError",
     "evalue": "pop expected at least 1 argument, got 0",
     "output_type": "error",
     "traceback": [
      "\u001b[1;31m---------------------------------------------------------------------------\u001b[0m",
      "\u001b[1;31mTypeError\u001b[0m                                 Traceback (most recent call last)",
      "Cell \u001b[1;32mIn[121], line 1\u001b[0m\n\u001b[1;32m----> 1\u001b[0m name \u001b[38;5;241m=\u001b[39m mixed_dict\u001b[38;5;241m.\u001b[39mpop()\n\u001b[0;32m      2\u001b[0m name\n",
      "\u001b[1;31mTypeError\u001b[0m: pop expected at least 1 argument, got 0"
     ]
    }
   ],
   "source": [
    "\n",
    "name = mixed_dict.pop()\n",
    "name\n"
   ]
  },
  {
   "cell_type": "markdown",
   "id": "746465c1-0a39-4053-82ac-384a7ef1adf7",
   "metadata": {},
   "source": [
    "# Dictionary with key-value pairs\n",
    "\n",
    "student = {\n",
    "    'name' : 'laxman',\n",
    "    'age' : 65,\n",
    "    'grade' : 'A+'\n",
    "    "
   ]
  },
  {
   "cell_type": "code",
   "execution_count": null,
   "id": "21204648-04a2-4429-8062-a228112d9ebc",
   "metadata": {},
   "outputs": [],
   "source": [
    "\n",
    ".The popitem() method removes the item that was last inserted into the dictionary.\n",
    "\n",
    ".In versions before 3.7, the popitem() method removes a random item.\n",
    "\n",
    ".The removed item is the return value of the popitem() method, as a tuple.\n",
    "\n",
    ".Removes and Returns the last inserted key-value pair as a tuple.\n"
   ]
  },
  {
   "cell_type": "code",
   "execution_count": null,
   "id": "92d728b3-0ba7-4002-9de6-d8c7c029b865",
   "metadata": {},
   "outputs": [],
   "source": []
  },
  {
   "cell_type": "code",
   "execution_count": null,
   "id": "b2e07c9d-89fb-4320-85cf-62f67dbf7191",
   "metadata": {},
   "outputs": [],
   "source": []
  },
  {
   "cell_type": "markdown",
   "id": "f0fffed1-f009-4a84-ac8b-a7c17adcb5eb",
   "metadata": {},
   "source": [
    "## 6. popitem():"
   ]
  },
  {
   "cell_type": "code",
   "execution_count": null,
   "id": "b124e5db-d1a3-49a8-a3b9-d85836511aff",
   "metadata": {},
   "outputs": [],
   "source": [
    "\n",
    ".The popitem() method removes the item that was last inserted into the dictionary.\n",
    "\n",
    ".In versions before 3.7, the popitem() method removes a random item.\n",
    "\n",
    ".The removed item is the return value of the popitem() method, as a tuple.\n",
    "\n",
    ".Removes and Returns the last inserted key-value pair as a tuple.\n"
   ]
  },
  {
   "cell_type": "code",
   "execution_count": null,
   "id": "b4de60b5-166e-4a9a-a0f0-8d1e68fd85f8",
   "metadata": {},
   "outputs": [],
   "source": []
  },
  {
   "cell_type": "markdown",
   "id": "6d2666f9-bf81-47ba-af24-7596f8d035ec",
   "metadata": {},
   "source": [
    "## Syntax"
   ]
  },
  {
   "cell_type": "code",
   "execution_count": null,
   "id": "a16562ee-2c2d-499e-93fb-8c46a0af3720",
   "metadata": {},
   "outputs": [],
   "source": [
    "dictionary.popitem()"
   ]
  },
  {
   "cell_type": "code",
   "execution_count": 129,
   "id": "202efbf9-212a-45a5-80eb-57c8b6b50b6a",
   "metadata": {},
   "outputs": [
    {
     "name": "stdout",
     "output_type": "stream",
     "text": [
      "('Qualification', 'B.Tech')\n",
      "{'name': 'siddu', 'age': 26, 'grade': 'A', 'gender': 'Female'}\n"
     ]
    }
   ],
   "source": [
    "last_item = student.popitem()\n",
    "print(last_item)\n",
    "print(student)"
   ]
  },
  {
   "cell_type": "code",
   "execution_count": 131,
   "id": "738299c5-bed4-40d1-bb56-81a8418ea1fd",
   "metadata": {},
   "outputs": [
    {
     "name": "stdout",
     "output_type": "stream",
     "text": [
      "5\n",
      "[1, 2, 3, 4]\n",
      "3\n",
      "[1, 2, 4]\n"
     ]
    }
   ],
   "source": [
    "my_list = [1, 2, 3, 4, 5]\n",
    "last_element = my_list.pop()\n",
    "print(last_element)  \n",
    "print(my_list)  \n",
    "\n",
    "removed_element = my_list.pop(2)\n",
    "print(removed_element)  \n",
    "print(my_list)  \n"
   ]
  },
  {
   "cell_type": "markdown",
   "id": "e50dcdb5-29af-49da-b064-d4cec7175d82",
   "metadata": {},
   "source": [
    "## 7.update():"
   ]
  },
  {
   "cell_type": "code",
   "execution_count": null,
   "id": "09a00684-f53c-4026-be3e-98ff5bea3e64",
   "metadata": {},
   "outputs": [],
   "source": [
    "\n",
    ".The update() method inserts the specified items to the dictionary.\n",
    "\n",
    ".The specified items can be a dictionary, or an iterable object with key value pairs.\n",
    "\n",
    ".update the dictionary with elements from another dictionary or from an iterable of key-value pairs.\n"
   ]
  },
  {
   "cell_type": "markdown",
   "id": "e0242d10-8eda-4afa-aea8-70754f73fc01",
   "metadata": {},
   "source": [
    "## Syntax "
   ]
  },
  {
   "cell_type": "code",
   "execution_count": null,
   "id": "8154330f-65fc-4432-b381-33de812a06d9",
   "metadata": {},
   "outputs": [],
   "source": [
    "dictionary.update(iterable)"
   ]
  },
  {
   "cell_type": "markdown",
   "id": "89b4603d-a926-4b25-bd0c-3ddd720e18f0",
   "metadata": {},
   "source": [
    "# Dictionary with key-value pairs.\n",
    "student = {\n",
    "    'name' : 'vamshi',\n",
    "    'age' : 20,\n",
    "    'grade' : 'A'\n",
    "}\n",
    "student"
   ]
  },
  {
   "cell_type": "code",
   "execution_count": 137,
   "id": "40c39ed2-9f22-4d96-84e6-38cc3d8f33ee",
   "metadata": {},
   "outputs": [
    {
     "name": "stdout",
     "output_type": "stream",
     "text": [
      "{'name': 'vamshi', 'age': 22, 'grade': 'A+'}\n"
     ]
    }
   ],
   "source": [
    "\n",
    "new_data = {'age' : 22, 'grade' : 'A+'}\n",
    "student.update(new_data)\n",
    "print(student)\n"
   ]
  },
  {
   "cell_type": "markdown",
   "id": "20b8b0c0-c10e-41ed-ba83-a17eac8d1d10",
   "metadata": {},
   "source": [
    "## 8.clear():"
   ]
  },
  {
   "cell_type": "code",
   "execution_count": null,
   "id": "7caadf50-a260-4551-a8cd-c7ef6536b1f4",
   "metadata": {},
   "outputs": [],
   "source": [
    ".The clear() method removes all the elements from a dictionary."
   ]
  },
  {
   "cell_type": "code",
   "execution_count": 140,
   "id": "e779dc00-5244-4d02-872a-0ae34d76dd40",
   "metadata": {},
   "outputs": [
    {
     "name": "stdout",
     "output_type": "stream",
     "text": [
      "{}\n"
     ]
    }
   ],
   "source": [
    "student = {\n",
    "    'name' : 'vamshi',\n",
    "    'age' : 20,\n",
    "    'grade' : 'A'\n",
    "}\n",
    "student.clear()\n",
    "print(student)"
   ]
  },
  {
   "cell_type": "markdown",
   "id": "4672d0e4-9418-46e5-a9fd-f032127d7775",
   "metadata": {},
   "source": [
    "## 9.copy():"
   ]
  },
  {
   "cell_type": "code",
   "execution_count": null,
   "id": "6ed1c414-c29b-4faf-ab97-07610d36e01a",
   "metadata": {},
   "outputs": [],
   "source": [
    ".The copy() method returns a copy of the specified dictionary."
   ]
  },
  {
   "cell_type": "markdown",
   "id": "5239ae76-c257-4c3a-b5e9-60a16dcf2f45",
   "metadata": {},
   "source": [
    "## Syntax"
   ]
  },
  {
   "cell_type": "code",
   "execution_count": null,
   "id": "56d77e1c-d4bc-4fed-9682-2a5ceeedf6f5",
   "metadata": {},
   "outputs": [],
   "source": [
    "dictionary.copy()"
   ]
  },
  {
   "cell_type": "code",
   "execution_count": 144,
   "id": "c5853f3d-898b-46f3-bdb5-e4ac2b9469d2",
   "metadata": {},
   "outputs": [
    {
     "name": "stdout",
     "output_type": "stream",
     "text": [
      "{'name': 'vamshi', 'age': 20, 'grade': 'A'}\n"
     ]
    }
   ],
   "source": [
    "student = {\n",
    "    'name' : 'vamshi',\n",
    "    'age' : 20,\n",
    "    'grade' : 'A'\n",
    "}\n",
    "student.copy()\n",
    "print(student)"
   ]
  },
  {
   "cell_type": "markdown",
   "id": "73af0206-6cf7-4464-8a80-28aa08d036a7",
   "metadata": {},
   "source": [
    "## 10.fromkeys():"
   ]
  },
  {
   "cell_type": "code",
   "execution_count": null,
   "id": "69d56673-6516-4233-a0f2-421648f09df1",
   "metadata": {},
   "outputs": [],
   "source": [
    ".The fromkeys() method returns a dictionary with the specified keys and the specified value."
   ]
  },
  {
   "cell_type": "code",
   "execution_count": 147,
   "id": "f59434ae-ef94-404a-8a9d-3ed8fcf16e6b",
   "metadata": {},
   "outputs": [
    {
     "name": "stdout",
     "output_type": "stream",
     "text": [
      "{'a': 0, 'b': 0, 'c': 0}\n"
     ]
    }
   ],
   "source": [
    "\n",
    "keys = ['a', 'b', 'c']\n",
    "my_dict = dict.fromkeys(keys, 0)\n",
    "print(my_dict)  \n"
   ]
  },
  {
   "cell_type": "code",
   "execution_count": null,
   "id": "b692bed6-d12f-460e-9f33-f7675412ea5b",
   "metadata": {},
   "outputs": [],
   "source": [
    "x = ('key1', 'key2', 'key3') y = 0\n",
    "\n",
    "thisdict = dict.fromkeys(x, y)\n",
    "\n",
    "print(thisdict)"
   ]
  },
  {
   "cell_type": "markdown",
   "id": "d6476b21-ee61-47fc-b325-cc429d6928d4",
   "metadata": {},
   "source": [
    "## 11.setdefault():"
   ]
  },
  {
   "cell_type": "code",
   "execution_count": null,
   "id": "e63cc64f-3310-4eaf-a5bd-131c68c00b41",
   "metadata": {},
   "outputs": [],
   "source": [
    "\n",
    ".The setdefault() method returns the value of the item with the specified key.\n",
    "    \n",
    ".If the key does not exist, insert the key, with the specified value\n"
   ]
  },
  {
   "cell_type": "markdown",
   "id": "c96b8a86-49cf-441b-adbf-cabe87ac693b",
   "metadata": {},
   "source": [
    "## Syntax"
   ]
  },
  {
   "cell_type": "code",
   "execution_count": null,
   "id": "3e378e28-5b41-4dce-bd49-214769011e36",
   "metadata": {},
   "outputs": [],
   "source": [
    ".dictionary.setdefault(keyname, value)"
   ]
  },
  {
   "cell_type": "code",
   "execution_count": 153,
   "id": "b0ce7606-a66a-4cfb-b1f9-1c53fdccac4e",
   "metadata": {},
   "outputs": [
    {
     "name": "stdout",
     "output_type": "stream",
     "text": [
      "Hydrabad\n",
      "vamshi\n"
     ]
    }
   ],
   "source": [
    "student = {\n",
    "    'name' : 'vamshi',\n",
    "    'age' : 20,\n",
    "    'grade' : 'A'\n",
    "}\n",
    "x = student.setdefault(\"City\" , 'Hydrabad')\n",
    "y = student.setdefault(\"name\", 'vamshi')\n",
    "print(x)\n",
    "print(y)"
   ]
  },
  {
   "cell_type": "code",
   "execution_count": null,
   "id": "9237b27f-f93a-48e5-b5f9-0e5f410c5284",
   "metadata": {},
   "outputs": [],
   "source": []
  }
 ],
 "metadata": {
  "kernelspec": {
   "display_name": "Python 3 (ipykernel)",
   "language": "python",
   "name": "python3"
  },
  "language_info": {
   "codemirror_mode": {
    "name": "ipython",
    "version": 3
   },
   "file_extension": ".py",
   "mimetype": "text/x-python",
   "name": "python",
   "nbconvert_exporter": "python",
   "pygments_lexer": "ipython3",
   "version": "3.12.4"
  }
 },
 "nbformat": 4,
 "nbformat_minor": 5
}
