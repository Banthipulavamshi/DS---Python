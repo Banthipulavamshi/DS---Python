{
 "cells": [
  {
   "cell_type": "markdown",
   "id": "55b0e4ee-eaee-4e24-8875-d913c4de0632",
   "metadata": {},
   "source": [
    "## python operators"
   ]
  },
  {
   "cell_type": "markdown",
   "id": "38baa9af-ba88-4c9c-98c4-69b9b92b28ec",
   "metadata": {},
   "source": [
    "1.Arithmetic operators\n",
    "\n",
    "2.Assignment operators\n",
    "\n",
    "3.Comparison operators\n",
    "\n",
    "4.Logical operators\n",
    "\n",
    "5.Identity operators\n",
    "\n",
    "6.Membership operators\n",
    "\n",
    "7.Bitwise operators"
   ]
  },
  {
   "cell_type": "markdown",
   "id": "e6cf5feb-fa98-4840-aee6-14f762ef2ef3",
   "metadata": {},
   "source": [
    "## 1. Arithmetic operators"
   ]
  },
  {
   "cell_type": "markdown",
   "id": "79eb6abd-f4d4-477b-a917-fd21810616ef",
   "metadata": {},
   "source": [
    "\r\n",
    "Arithmetic operators are used with numeric values to perform common mathematical operations"
   ]
  },
  {
   "cell_type": "markdown",
   "id": "25cd01ec-ff3e-43b5-9f94-212fd87ac18f",
   "metadata": {},
   "source": [
    "## Addition(+)"
   ]
  },
  {
   "cell_type": "code",
   "execution_count": 11,
   "id": "f713853e-87ab-43ad-8eb1-69844d2dbb51",
   "metadata": {},
   "outputs": [
    {
     "name": "stdout",
     "output_type": "stream",
     "text": [
      "101\n",
      "140\n",
      "1048\n",
      "-547\n",
      "-1444\n"
     ]
    }
   ],
   "source": [
    "\n",
    "a=56\n",
    "b=45\n",
    "c=95\n",
    "d=953\n",
    "e=-1500\n",
    "ab=a+b\n",
    "bc=b+c\n",
    "cd=c+d\n",
    "de=d+e\n",
    "ea=e+a\n",
    "print(ab)\n",
    "print(bc)\n",
    "print(cd)\n",
    "print(de)\n",
    "print(ea)\n"
   ]
  },
  {
   "cell_type": "markdown",
   "id": "2e7ceb93-789b-4399-8538-b78dfd41b863",
   "metadata": {},
   "source": [
    "## Subtraction(-)"
   ]
  },
  {
   "cell_type": "code",
   "execution_count": 14,
   "id": "ff50babb-7a48-4781-a4bc-f9dc17bf6fa8",
   "metadata": {},
   "outputs": [
    {
     "name": "stdout",
     "output_type": "stream",
     "text": [
      "-491\n",
      "1518\n",
      "-1003\n",
      "-101\n",
      "77\n"
     ]
    }
   ],
   "source": [
    "a=76\n",
    "b=567\n",
    "c=-951\n",
    "d=52\n",
    "e=153\n",
    "ab=a-b\n",
    "bc=b-c\n",
    "cd=c-d\n",
    "de=d-e\n",
    "ea=e-a\n",
    "print(ab)\n",
    "print(bc)\n",
    "print(cd)\n",
    "print(de)\n",
    "print(ea)"
   ]
  },
  {
   "cell_type": "markdown",
   "id": "86e4bc95-2727-4c54-8d2a-1a3bf0f83339",
   "metadata": {},
   "source": [
    "## Multiplication(*)"
   ]
  },
  {
   "cell_type": "code",
   "execution_count": 17,
   "id": "6efa1fac-edfe-4e62-9d93-f4829782679b",
   "metadata": {},
   "outputs": [
    {
     "name": "stdout",
     "output_type": "stream",
     "text": [
      "182007\n",
      "-548289\n",
      "-5502230\n",
      "38482687660\n",
      "2170991694\n"
     ]
    }
   ],
   "source": [
    "a=321\n",
    "b=567\n",
    "c=-967\n",
    "d=5690\n",
    "e=6763214\n",
    "ab=a*b\n",
    "bc=b*c\n",
    "cd=c*d\n",
    "de=d*e\n",
    "ea=e*a\n",
    "print(ab)\n",
    "print(bc)\n",
    "print(cd)\n",
    "print(de)\n",
    "print(ea)"
   ]
  },
  {
   "cell_type": "markdown",
   "id": "89a14e24-18e5-47dc-8a0d-076e466f08a4",
   "metadata": {},
   "source": [
    "## Division(/)"
   ]
  },
  {
   "cell_type": "markdown",
   "id": "8eb37e72-1818-40c1-aad2-9244c5add282",
   "metadata": {},
   "source": [
    "Result returns in Quotient"
   ]
  },
  {
   "cell_type": "code",
   "execution_count": 23,
   "id": "8096e1e4-1bc7-41c7-b569-0c57b77c0813",
   "metadata": {},
   "outputs": [
    {
     "name": "stdout",
     "output_type": "stream",
     "text": [
      "-0.05316901408450704\n",
      "-0.011494407943553282\n",
      "7.7925777964676195\n",
      "1056.888888888889\n",
      "0.19867549668874174\n"
     ]
    }
   ],
   "source": [
    "a=45.3\n",
    "b=-852\n",
    "c=74123\n",
    "d=9512\n",
    "e=9\n",
    "ab=a/b\n",
    "bc=b/c\n",
    "cd=c/d\n",
    "de=d/e\n",
    "ea=e/a\n",
    "print(ab)\n",
    "print(bc)\n",
    "print(cd)\n",
    "print(de)\n",
    "print(ea)"
   ]
  },
  {
   "cell_type": "markdown",
   "id": "274e1fa8-15c0-4abc-b83b-a2989e65d7b9",
   "metadata": {},
   "source": [
    "# Modulus(%)"
   ]
  },
  {
   "cell_type": "markdown",
   "id": "71941592-2dba-4eba-b10d-c0ed1ee8ba75",
   "metadata": {},
   "source": [
    "Result returns in Reminder"
   ]
  },
  {
   "cell_type": "code",
   "execution_count": 31,
   "id": "e65354a7-9eb3-493e-abd4-72a2342c412e",
   "metadata": {},
   "outputs": [
    {
     "name": "stdout",
     "output_type": "stream",
     "text": [
      "44\n",
      "-24.200000000000003\n",
      "54.8\n",
      "65\n",
      "3\n"
     ]
    }
   ],
   "source": [
    "a=95\n",
    "b=51\n",
    "c=-75.2\n",
    "d=65\n",
    "e=98\n",
    "ab=a%b\n",
    "bc=b%c\n",
    "cd=c%d\n",
    "de=d%e\n",
    "ea=e%a\n",
    "print(ab)\n",
    "print(bc)\n",
    "print(cd)\n",
    "print(de)\n",
    "print(ea)"
   ]
  },
  {
   "cell_type": "markdown",
   "id": "8907ef58-ebb9-4c9b-804e-09e54a7a441f",
   "metadata": {},
   "source": [
    "# Exponentiation(**)"
   ]
  },
  {
   "cell_type": "code",
   "execution_count": 37,
   "id": "27fa13ea-20fd-4537-b75c-f69bd0875792",
   "metadata": {},
   "outputs": [
    {
     "name": "stdout",
     "output_type": "stream",
     "text": [
      "1.435929092214352e-72\n",
      "2821109907456\n",
      "21661481985318866090456360813617841433097164651373566993519371723551728967231450179999800047688590453885868835635965404913860608\n",
      "23890651553407089189150257713560977811585903355239590396655305481256157973273723483029257464362191516289028046725840844241929711323529836983656327963329658052404929279682413165436177466003116452431186746531782085143246051988544492981611066015565278465711154026205366814689531501729834252919852378670883369692441781411483583935514965206502195088235487688694220814562054354505945730054462121411436919017772262590462066232767799995415307655845726109052680513008786892528932340379113174070197115101988609120906191879727819151448647401200883994673473241844027443510795618346340027860684549734560988918526080906341361\n",
      "755989327781257933727684902071057200863830411034481317587504076578667436880871840073152968286977502652467874450202614509780826350176499592774509000023232937554377026152087420825579219768668760097838826160298533504565194926963893195237295652864\n"
     ]
    }
   ],
   "source": [
    "a=99\n",
    "b=-36\n",
    "c=8\n",
    "d=141\n",
    "e=284\n",
    "ab=a**b\n",
    "bc=b**c\n",
    "cd=c**d\n",
    "de=d**e\n",
    "ea=e**a\n",
    "print(ab)\n",
    "print(bc)\n",
    "print(cd)\n",
    "print(de)\n",
    "print(ea)\n"
   ]
  },
  {
   "cell_type": "markdown",
   "id": "1a3d090c-8020-4881-8a75-7c4a84d93925",
   "metadata": {},
   "source": [
    "# #Floor Division(//)"
   ]
  },
  {
   "cell_type": "markdown",
   "id": "d4aa66e4-fab2-43fd-80bd-eea53687a495",
   "metadata": {},
   "source": [
    "result removes the decimal"
   ]
  },
  {
   "cell_type": "code",
   "execution_count": 40,
   "id": "70e919cd-6b27-4a67-b6a4-99df0e383ad1",
   "metadata": {},
   "outputs": [
    {
     "name": "stdout",
     "output_type": "stream",
     "text": [
      "3\n",
      "-1\n",
      "-9.0\n",
      "41.0\n",
      "0.0\n"
     ]
    }
   ],
   "source": [
    "a=85\n",
    "b=23\n",
    "c=-8324\n",
    "d=962.5\n",
    "e=23.1\n",
    "ab=a//b\n",
    "bc=b//c\n",
    "cd=c//d\n",
    "de=d//e\n",
    "ea=e//a\n",
    "print(ab)\n",
    "print(bc)\n",
    "print(cd)\n",
    "print(de)\n",
    "print(ea)"
   ]
  },
  {
   "cell_type": "markdown",
   "id": "905b33d2-f48f-449d-991a-a5044e2dc854",
   "metadata": {},
   "source": [
    "# 2. Assignment operators"
   ]
  },
  {
   "cell_type": "markdown",
   "id": "fa5653e3-f297-477d-b9bb-b761e0dbd846",
   "metadata": {},
   "source": [
    " Assignment operators are used to assign values to variables\n"
   ]
  },
  {
   "cell_type": "markdown",
   "id": "8aabc409-72c8-4f15-9724-1669b7321aaa",
   "metadata": {},
   "source": [
    "## Addition Assignment Operator:"
   ]
  },
  {
   "cell_type": "code",
   "execution_count": 47,
   "id": "b13a3fb7-3fe8-4839-a91b-3395afddf3f1",
   "metadata": {},
   "outputs": [
    {
     "name": "stdout",
     "output_type": "stream",
     "text": [
      "92\n",
      "49\n",
      "16.299999999999997\n",
      "488.5\n",
      "528.2\n"
     ]
    }
   ],
   "source": [
    "a=7\n",
    "b=85\n",
    "c=-36\n",
    "d=52.3\n",
    "e=436.2\n",
    "a+=b\n",
    "b+=c\n",
    "c+=d\n",
    "d+=e\n",
    "e+=a\n",
    "print(a)\n",
    "print(b)\n",
    "print(c)\n",
    "print(d)\n",
    "print(e)"
   ]
  },
  {
   "cell_type": "markdown",
   "id": "fa988f17-cb06-4f6f-939c-d74e4fc5f5ad",
   "metadata": {},
   "source": [
    "# Subtraction Assignment Operator:"
   ]
  },
  {
   "cell_type": "code",
   "execution_count": 50,
   "id": "8aa6102d-219c-45de-86bc-9db822cb4874",
   "metadata": {},
   "outputs": [
    {
     "name": "stdout",
     "output_type": "stream",
     "text": [
      "138\n",
      "-111.5\n",
      "-46.7\n",
      "82.2\n",
      "-147\n"
     ]
    }
   ],
   "source": [
    "a=53\n",
    "b=-85\n",
    "c=26.5\n",
    "d=73.2\n",
    "e=-9\n",
    "a-=b\n",
    "b-=c\n",
    "c-=d\n",
    "d-=e\n",
    "e-=a\n",
    "print(a)\n",
    "print(b)\n",
    "print(c)\n",
    "print(d)\n",
    "print(e)"
   ]
  },
  {
   "cell_type": "markdown",
   "id": "1e42d8e8-7e1c-4e3f-83c0-a711d3c9a446",
   "metadata": {},
   "source": [
    "# Multiplication Assignmment Operator:"
   ]
  },
  {
   "cell_type": "code",
   "execution_count": 60,
   "id": "ef6b697e-5e7f-4261-b2be-c6446dc73bd6",
   "metadata": {},
   "outputs": [
    {
     "name": "stdout",
     "output_type": "stream",
     "text": [
      "1056\n",
      "780\n",
      "2145\n",
      "1683\n",
      "53856\n"
     ]
    }
   ],
   "source": [
    "a=88\n",
    "b=12\n",
    "c=65\n",
    "d=33\n",
    "e=51\n",
    "a*=b\n",
    "b*=c\n",
    "c*=d\n",
    "d*=e\n",
    "e*=a\n",
    "print(a)\n",
    "print(b)\n",
    "print(c)\n",
    "print(d)\n",
    "print(e)"
   ]
  },
  {
   "cell_type": "markdown",
   "id": "653d9a15-9e82-4a11-a286-9ff1a37c2ec6",
   "metadata": {},
   "source": [
    "# Division Assignment Operator:"
   ]
  },
  {
   "cell_type": "code",
   "execution_count": 63,
   "id": "dffa6376-bfe6-4f55-9dff-bcb9ec0ee77d",
   "metadata": {},
   "outputs": [
    {
     "name": "stdout",
     "output_type": "stream",
     "text": [
      "0.35384615384615387\n",
      "0.7926829268292683\n",
      "0.9010989010989011\n",
      "1.7169811320754718\n",
      "149.78260869565216\n"
     ]
    }
   ],
   "source": [
    "a=23\n",
    "b=65\n",
    "c=82\n",
    "d=91\n",
    "e=53\n",
    "a/=b\n",
    "b/=c\n",
    "c/=d\n",
    "d/=e\n",
    "e/=a\n",
    "print(a)\n",
    "print(b)\n",
    "print(c)\n",
    "print(d)\n",
    "print(e)"
   ]
  },
  {
   "cell_type": "markdown",
   "id": "3b0f3976-be9a-4613-bd2a-11c4c0b430a7",
   "metadata": {},
   "source": [
    "# Modulus Assignment Operator:"
   ]
  },
  {
   "cell_type": "code",
   "execution_count": 66,
   "id": "a51a01aa-8abd-4540-959c-f3efdee87019",
   "metadata": {},
   "outputs": [
    {
     "name": "stdout",
     "output_type": "stream",
     "text": [
      "-439\n",
      "477\n",
      "467.79999999999995\n",
      "8.200000000000045\n",
      "-355\n"
     ]
    }
   ],
   "source": [
    "a=83\n",
    "b=-522\n",
    "c=999\n",
    "d=531.2\n",
    "e=523\n",
    "a%=b\n",
    "b%=c\n",
    "c%=d\n",
    "d%=e\n",
    "e%=a\n",
    "print(a)\n",
    "print(b)\n",
    "print(c)\n",
    "print(d)\n",
    "print(e)"
   ]
  },
  {
   "cell_type": "markdown",
   "id": "490e8e65-3183-4eee-8f7b-ac2f625b7851",
   "metadata": {},
   "source": [
    "# Exponentiation Assignment Operator:"
   ]
  },
  {
   "cell_type": "code",
   "execution_count": 69,
   "id": "d141accd-c734-463b-a8ee-2b494c997f54",
   "metadata": {},
   "outputs": [
    {
     "name": "stdout",
     "output_type": "stream",
     "text": [
      "1\n",
      "8\n",
      "81\n",
      "1024\n",
      "5\n"
     ]
    }
   ],
   "source": [
    "a=1\n",
    "b=2\n",
    "c=3\n",
    "d=4\n",
    "e=5\n",
    "a**=b\n",
    "b**=c\n",
    "c**=d\n",
    "d**=e\n",
    "e**=a\n",
    "print(a)\n",
    "print(b)\n",
    "print(c)\n",
    "print(d)\n",
    "print(e)"
   ]
  },
  {
   "cell_type": "markdown",
   "id": "ddd32868-44d4-4370-8bac-a43c42e62521",
   "metadata": {},
   "source": [
    "## 3. Python Comparison Operators"
   ]
  },
  {
   "cell_type": "markdown",
   "id": "2f5a8d48-c1a1-4044-9ed2-585439240f3e",
   "metadata": {},
   "source": [
    "Comparison operators are used to compare two values"
   ]
  },
  {
   "cell_type": "markdown",
   "id": "103ae779-187f-4de0-9015-5a17e3ff6f4b",
   "metadata": {},
   "source": [
    "#     Equality Operators"
   ]
  },
  {
   "cell_type": "code",
   "execution_count": 76,
   "id": "c03ea914-4f42-4450-8ec7-b2636ca5458b",
   "metadata": {},
   "outputs": [
    {
     "name": "stdout",
     "output_type": "stream",
     "text": [
      "False\n",
      "False\n",
      "False\n",
      "True\n",
      "False\n"
     ]
    }
   ],
   "source": [
    "a=\"hi\"\n",
    "b=\"bye\"\n",
    "c=\"hi\"\n",
    "d=69\n",
    "e=\"Hii!\"\n",
    "f=69.69\n",
    "print(a==b)\n",
    "print(d==f)\n",
    "print(c==d)\n",
    "print(a==c)\n",
    "print(c==e)"
   ]
  },
  {
   "cell_type": "markdown",
   "id": "299fa39f-12c7-4476-981d-1c80f7c63952",
   "metadata": {},
   "source": [
    "# Not equal to Operator:"
   ]
  },
  {
   "cell_type": "code",
   "execution_count": 79,
   "id": "4e59697e-cbd9-4e94-a9fa-45d1b8b8f4b1",
   "metadata": {},
   "outputs": [
    {
     "name": "stdout",
     "output_type": "stream",
     "text": [
      "True\n",
      "False\n",
      "True\n",
      "True\n",
      "True\n"
     ]
    }
   ],
   "source": [
    "a=5\n",
    "b=852\n",
    "c=5\n",
    "d=963\n",
    "e=-152\n",
    "\n",
    "print(a!=b)\n",
    "print(a!=c)\n",
    "print(c!=d)\n",
    "print(d!=e)\n",
    "print(e!=a)"
   ]
  },
  {
   "cell_type": "markdown",
   "id": "3d19f3f2-80ef-4462-b916-e0bacbd92d7b",
   "metadata": {},
   "source": [
    "## Greater than Operator:"
   ]
  },
  {
   "cell_type": "code",
   "execution_count": 82,
   "id": "d13c42d9-71bc-48b1-a530-66e33ab9cc5d",
   "metadata": {},
   "outputs": [
    {
     "name": "stdout",
     "output_type": "stream",
     "text": [
      "False\n",
      "True\n",
      "True\n",
      "False\n",
      "False\n"
     ]
    }
   ],
   "source": [
    "a=102\n",
    "b=283\n",
    "c=32.5\n",
    "d=-85\n",
    "e=53\n",
    "\n",
    "print(a>b)\n",
    "print(b>c)\n",
    "print(c>d)\n",
    "print(d>e)\n",
    "print(e>a)"
   ]
  },
  {
   "cell_type": "markdown",
   "id": "1891334e-0bf5-458c-af17-bb9a523fd705",
   "metadata": {},
   "source": [
    "## Less than Operator:"
   ]
  },
  {
   "cell_type": "code",
   "execution_count": 85,
   "id": "b7fbd644-0a1c-4cca-a603-da9d4eec3881",
   "metadata": {},
   "outputs": [
    {
     "name": "stdout",
     "output_type": "stream",
     "text": [
      "False\n",
      "False\n",
      "False\n",
      "False\n",
      "True\n"
     ]
    }
   ],
   "source": [
    "a=96\n",
    "b=74\n",
    "c=4\n",
    "d=-0.2\n",
    "e=-856\n",
    "\n",
    "print(a<b)\n",
    "print(b<c)\n",
    "print(c<d)\n",
    "print(d<e)\n",
    "print(e<a)"
   ]
  },
  {
   "cell_type": "markdown",
   "id": "992eb253-1b24-48d0-bc90-0e34419def58",
   "metadata": {},
   "source": [
    "## Greater than or equal to Operator:"
   ]
  },
  {
   "cell_type": "code",
   "execution_count": 88,
   "id": "455f7983-6829-4cfa-ba93-6b942ddbc1e0",
   "metadata": {},
   "outputs": [
    {
     "name": "stdout",
     "output_type": "stream",
     "text": [
      "False\n",
      "True\n",
      "True\n",
      "True\n",
      "False\n"
     ]
    }
   ],
   "source": [
    "a=85\n",
    "b=636\n",
    "c=241\n",
    "d=0.236\n",
    "e=-852\n",
    "\n",
    "print(a>=b)\n",
    "print(b>=c)\n",
    "print(c>=d)\n",
    "print(d>=e)\n",
    "print(e>=a)"
   ]
  },
  {
   "cell_type": "markdown",
   "id": "d7c09b06-97e6-483b-871f-856789a1b56c",
   "metadata": {},
   "source": [
    "## Less than or equal to Operator:"
   ]
  },
  {
   "cell_type": "code",
   "execution_count": 91,
   "id": "37719c0b-0043-4c27-a81c-35faca7c7f36",
   "metadata": {},
   "outputs": [
    {
     "name": "stdout",
     "output_type": "stream",
     "text": [
      "False\n",
      "False\n",
      "True\n",
      "False\n",
      "True\n"
     ]
    }
   ],
   "source": [
    "a=48\n",
    "b=6.7\n",
    "c=0.3\n",
    "d=86\n",
    "e=-836\n",
    "\n",
    "print(a<=b)\n",
    "print(b<=c)\n",
    "print(c<=d)\n",
    "print(d<=e)\n",
    "print(e<=a)"
   ]
  },
  {
   "cell_type": "markdown",
   "id": "22b26140-2e3e-4578-b56f-36c4769a0de6",
   "metadata": {},
   "source": [
    "## 4.Logical Operator:"
   ]
  },
  {
   "cell_type": "markdown",
   "id": "8455f12f-1548-445b-9459-0fe8c78c4f78",
   "metadata": {},
   "source": [
    "A logical operator is a symbol or word used to connect two or more expressions suchthat the value of the compound expression produced depends only on that of the original expressions and on the meaning of the operator. Common logical operators include AND, OR, and NOT."
   ]
  },
  {
   "cell_type": "markdown",
   "id": "700dc35f-b35d-401b-95b1-d9a9ee114a0f",
   "metadata": {},
   "source": [
    "#### And Operator: Returns true if both the ends are true"
   ]
  },
  {
   "cell_type": "code",
   "execution_count": 96,
   "id": "ce15347d-8e1e-4e0c-aa1f-7a244d87bc42",
   "metadata": {},
   "outputs": [
    {
     "name": "stdout",
     "output_type": "stream",
     "text": [
      "False\n",
      "True\n",
      "True\n",
      "False\n",
      "False\n"
     ]
    }
   ],
   "source": [
    "print(3>12 and 114>13)\n",
    "print(87>42 and 472>124)\n",
    "print(22==22 and 112==112)\n",
    "print(104==184 and 1412>=42)\n",
    "print(5424>165 and 114<14)"
   ]
  },
  {
   "cell_type": "markdown",
   "id": "3e792232-1c65-4953-b659-ae87f28822db",
   "metadata": {},
   "source": [
    "\n",
    "## Or Operator: Returns true if the operand is false.\n"
   ]
  },
  {
   "cell_type": "code",
   "execution_count": 99,
   "id": "14f6a846-7d3d-47cb-8a83-f8ceabadc03e",
   "metadata": {},
   "outputs": [
    {
     "name": "stdout",
     "output_type": "stream",
     "text": [
      "True\n",
      "True\n",
      "False\n",
      "False\n",
      "True\n"
     ]
    }
   ],
   "source": [
    "print(1>33 or 114>13)\n",
    "print(798>232 or 412>124)\n",
    "print(231==12 or 112==412)\n",
    "print(44==144 or 1>=412)\n",
    "print(5>1 or 14<14)\n"
   ]
  },
  {
   "cell_type": "markdown",
   "id": "ba6b196d-50be-44bd-9da8-fdec702969f9",
   "metadata": {},
   "source": [
    "#### not Operator: Returns true if the operand is false."
   ]
  },
  {
   "cell_type": "code",
   "execution_count": 102,
   "id": "208b8311-098d-406d-9c04-d6135c3dec95",
   "metadata": {},
   "outputs": [
    {
     "name": "stdout",
     "output_type": "stream",
     "text": [
      "False\n",
      "True\n",
      "False\n",
      "True\n",
      "False\n"
     ]
    }
   ],
   "source": [
    "print(not(4>3))\n",
    "print(not(44!=44 or 83<48))\n",
    "print(not(923>=32))\n",
    "print(not(45==65))\n",
    "print(not(66>23 and 72!=87))"
   ]
  },
  {
   "cell_type": "markdown",
   "id": "671e36c5-2518-4632-990d-09440dc4a32d",
   "metadata": {},
   "source": [
    "## 5.Identity Operators:"
   ]
  },
  {
   "cell_type": "markdown",
   "id": "50c908bc-c760-4f7b-a798-1ac1548d53db",
   "metadata": {},
   "source": [
    "Identify whether the value is present or not"
   ]
  },
  {
   "cell_type": "markdown",
   "id": "4ce35669-25ee-4c93-bb98-a12f9b4bddac",
   "metadata": {},
   "source": [
    "#### is Operator: Returns true if the operands are identical     ."
   ]
  },
  {
   "cell_type": "code",
   "execution_count": 109,
   "id": "2f5720ee-81a8-4763-a084-9ca5d6a19c2e",
   "metadata": {},
   "outputs": [
    {
     "name": "stdout",
     "output_type": "stream",
     "text": [
      "False\n",
      "False\n",
      "True\n",
      "False\n",
      "True\n",
      "True\n"
     ]
    }
   ],
   "source": [
    "a=\"hello world\"\n",
    "b=\"hello\"\n",
    "c=51\n",
    "d=51\n",
    "e=\"hello\"\n",
    "f=655.932\n",
    "g=41.23\n",
    "\n",
    "print(a is b)\n",
    "print(b is a)\n",
    "print(c is d)\n",
    "print(d is e)\n",
    "print(e is b)\n",
    "print(b is e)"
   ]
  },
  {
   "cell_type": "markdown",
   "id": "1e2879ed-a6d7-43b4-aa0b-8b606efc6b89",
   "metadata": {},
   "source": [
    "## is not Operator: True if the operands are not identical"
   ]
  },
  {
   "cell_type": "code",
   "execution_count": 122,
   "id": "9ae5299b-4a45-410e-9348-1e152ce152dc",
   "metadata": {},
   "outputs": [
    {
     "name": "stdout",
     "output_type": "stream",
     "text": [
      "True\n",
      "True\n",
      "False\n",
      "True\n",
      "True\n",
      "False\n"
     ]
    }
   ],
   "source": [
    "a=\"hello world\"\n",
    "b=\"hello\"\n",
    "c=51\n",
    "d=51\n",
    "e=\"hello\"\n",
    "f=655.932\n",
    "g=41.23\n",
    "\n",
    "print(a is not b)\n",
    "print(b is not c)\n",
    "print(c is not d)\n",
    "print(d is not e)\n",
    "print(e is not f)\n",
    "print(b is not e)"
   ]
  },
  {
   "cell_type": "markdown",
   "id": "674f4935-76ee-4d79-ad94-a8015218c429",
   "metadata": {},
   "source": [
    "## 6.Membership Operator:"
   ]
  },
  {
   "cell_type": "markdown",
   "id": "b3a33d4c-bb60-4740-ae4e-3c3965ebf40e",
   "metadata": {},
   "source": [
    "\n",
    "Membership operators are used to test if a sequence is presented in an object"
   ]
  },
  {
   "cell_type": "markdown",
   "id": "feb82392-77ef-4355-a1ed-588d6996ebcc",
   "metadata": {},
   "source": [
    "## In Operator: True if value or variable is found in sequence\r\n"
   ]
  },
  {
   "cell_type": "code",
   "execution_count": 137,
   "id": "32d6e716-2547-450a-8b4b-cad8b1f9ceef",
   "metadata": {},
   "outputs": [
    {
     "name": "stdout",
     "output_type": "stream",
     "text": [
      "True\n",
      "False\n",
      "True\n",
      "False\n",
      "False\n"
     ]
    }
   ],
   "source": [
    "a=\"vamshi\"\n",
    "b=[8,21,14,24,3,552,25,44]\n",
    "print(\"a\" in a)\n",
    "print(\"N\" in a) \n",
    "print(24 in b)\n",
    "print(0 in b)\n",
    "print(23 in b)"
   ]
  },
  {
   "cell_type": "markdown",
   "id": "f727ec7f-71d2-48e4-a85d-4137b33b9d82",
   "metadata": {},
   "source": [
    "## not in Operator: True if value or variable is not found in the sequence"
   ]
  },
  {
   "cell_type": "code",
   "execution_count": 135,
   "id": "4eec3eac-5d20-4521-8d58-1288d31675ba",
   "metadata": {},
   "outputs": [
    {
     "name": "stdout",
     "output_type": "stream",
     "text": [
      "False\n",
      "True\n",
      "False\n",
      "True\n",
      "True\n"
     ]
    }
   ],
   "source": [
    "a=\"vamshi\"\n",
    "b=[8,21,14,24,3,552,25,44]\n",
    "print(\"a\" not in a)\n",
    "print(\"H\" not in a) \n",
    "print(24 not in b)\n",
    "print(0 not in b)\n",
    "print(23 not in b)\n"
   ]
  },
  {
   "cell_type": "markdown",
   "id": "8761de67-0af8-453a-8ddb-ea65b39d1cd9",
   "metadata": {},
   "source": [
    "## Precedence Operator:"
   ]
  },
  {
   "cell_type": "markdown",
   "id": "fc67d634-2a37-4ace-b10e-0d047d7c0309",
   "metadata": {},
   "source": [
    "### operator precedence describes the order in whichoperations are performed"
   ]
  },
  {
   "cell_type": "markdown",
   "id": "0b11d4ef-3927-4e9a-b780-abd44f0935c0",
   "metadata": {},
   "source": [
    "\r\n",
    "Parentheses ()\r\n",
    "\r\n",
    "Exponentiation **\r\n",
    "\r\n",
    "Unary plus and minus +x, -x\r\n",
    "\r\n",
    "Multiplication, Division, Floor Division, Modulus *, /, //, %\r\n",
    "\r\n",
    "Addition and Subtraction +, -\r\n",
    "\r\n",
    "Bitwise Shift Operators <<, >>\r\n",
    "\r\n",
    "Bitwise AND &\r\n",
    "\r\n",
    "Bitwise XOR ^\r\n",
    "\r\n",
    "Bitwise OR |\r\n",
    "\r\n",
    "Comparison Operators <, <=, >, >=, ==, !=\r\n",
    "\r\n",
    "Identity Operators is, is not\r\n",
    "\r\n",
    "Membership Operators in, not in\r\n",
    "\r\n",
    "Logical NOT not\r\n",
    "\r\n",
    "Logical AND and"
   ]
  },
  {
   "cell_type": "code",
   "execution_count": 142,
   "id": "1d743074-0dfc-4f2b-9112-916752b85573",
   "metadata": {},
   "outputs": [
    {
     "data": {
      "text/plain": [
       "328256967394537078001"
      ]
     },
     "execution_count": 142,
     "metadata": {},
     "output_type": "execute_result"
    }
   ],
   "source": [
    "8*48+3*(2)+16+3**43-32\n"
   ]
  },
  {
   "cell_type": "code",
   "execution_count": 144,
   "id": "12591bc4-9c9d-471e-bc50-83f321fef5e0",
   "metadata": {},
   "outputs": [
    {
     "data": {
      "text/plain": [
       "-5232704.0"
      ]
     },
     "execution_count": 144,
     "metadata": {},
     "output_type": "execute_result"
    }
   ],
   "source": [
    "7657-862*(8627-2538)+8357+(7336>7848)/8885"
   ]
  },
  {
   "cell_type": "code",
   "execution_count": null,
   "id": "b7caff34-2eec-48e5-a1ff-f0385a6d7780",
   "metadata": {},
   "outputs": [],
   "source": []
  }
 ],
 "metadata": {
  "kernelspec": {
   "display_name": "Python 3 (ipykernel)",
   "language": "python",
   "name": "python3"
  },
  "language_info": {
   "codemirror_mode": {
    "name": "ipython",
    "version": 3
   },
   "file_extension": ".py",
   "mimetype": "text/x-python",
   "name": "python",
   "nbconvert_exporter": "python",
   "pygments_lexer": "ipython3",
   "version": "3.12.4"
  }
 },
 "nbformat": 4,
 "nbformat_minor": 5
}
