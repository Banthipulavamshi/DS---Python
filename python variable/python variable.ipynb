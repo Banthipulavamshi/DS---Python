{
 "cells": [
  {
   "cell_type": "markdown",
   "id": "21249231-72d4-4c5b-9324-6e4067c44afe",
   "metadata": {},
   "source": [
    "## python variables:"
   ]
  },
  {
   "cell_type": "markdown",
   "id": "764d37f6-7e77-4c94-97ab-189c82eebb2f",
   "metadata": {},
   "source": [
    "Python Variables : Python Variable is containers that store values. Python is not “statically typed”. We do not need to declare variables before using them or declare their type. A variable is created the moment we first assign a value to it. A Python variable is a name given to a memory location. It is the basic unit of storage in a program.\r\n",
    "\r\n",
    "Rules Of Variables : . A Python variable name must start with a letter or the underscore character. . A Python variable name cannot start with a number. . . A Python variable name can only contain alpha-numeric characters and underscores (A-z, 0-9, and _ ) . . Variable in Python names are case-sensitive (name, Name, and NAME are three different variables ) . . The reserved words(keywords) in Python cannot be used to name the variable in Python."
   ]
  },
  {
   "cell_type": "code",
   "execution_count": 5,
   "id": "c9a0b4fd-2307-4200-ad8b-42ad273a4a0d",
   "metadata": {},
   "outputs": [
    {
     "name": "stdout",
     "output_type": "stream",
     "text": [
      "vamshi\n",
      "Apple\n",
      "laxman\n",
      "70.8\n",
      "siddu\n",
      "balu\n",
      "{2, 3, 4}\n",
      "['AP', 'TS', 'BBS']\n",
      "100\n",
      "vamshi\n",
      "True\n",
      "['Apple', 'Mango', 'Jackfruit']\n",
      "False\n",
      "{'education', 'City', 'B.Tech', 'balu'}\n",
      "{'SQL', 'JAVA', 'python'}\n"
     ]
    }
   ],
   "source": [
    "#Vaild variables\n",
    "myvar = \"vamshi\"\n",
    "my_var = \"Apple\"\n",
    "_my_var = \"laxman\"\n",
    "weight = 70.80\n",
    "MY_VAR = \"siddu\"\n",
    "myvar2 = \"balu\"\n",
    "Set_234 = {2,3,4}\n",
    "List_states = [\"AP\",\"TS\",\"BBS\"]\n",
    "a = 100\n",
    "name = \"vamshi\"\n",
    "is_student = True\n",
    "fruits = [\"Apple\",\"Mango\",\"Jackfruit\"]\n",
    "balu_bool = False\n",
    "personal_info = {\"balu\",\"education\",\"B.Tech\",\"City\"}\n",
    "vamshivamu = { \"python\",\"SQL\",\"JAVA\"}\n",
    "\n",
    "print(myvar)\n",
    "print(my_var)\n",
    "print(_my_var)\n",
    "print(weight)\n",
    "print(MY_VAR)\n",
    "print(myvar2)\n",
    "print(Set_234)\n",
    "print(List_states)\n",
    "print(a)\n",
    "print(name)\n",
    "print(is_student)\n",
    "print(fruits)\n",
    "print(Shiva_bool)\n",
    "print(personal_info)\n",
    "print(vamshivamu)"
   ]
  },
  {
   "cell_type": "code",
   "execution_count": 7,
   "id": "96e475a8-5516-4548-8653-bc5cfa6d46a1",
   "metadata": {},
   "outputs": [
    {
     "ename": "SyntaxError",
     "evalue": "invalid decimal literal (858041140.py, line 3)",
     "output_type": "error",
     "traceback": [
      "\u001b[1;36m  Cell \u001b[1;32mIn[7], line 3\u001b[1;36m\u001b[0m\n\u001b[1;33m    2myvar = \"vamshi\"\u001b[0m\n\u001b[1;37m    ^\u001b[0m\n\u001b[1;31mSyntaxError\u001b[0m\u001b[1;31m:\u001b[0m invalid decimal literal\n"
     ]
    }
   ],
   "source": [
    "#Invalid variables\n",
    "#Vaild variables\n",
    "2myvar = \"vamshi\"\n",
    "@my_var = \"Apple\"\n",
    "_my_var 1 = \"bunty\"\n",
    "weight 0 = 70.80\n",
    "#MY_VAR = \"mani\"\n",
    "*myvar2 = \"siddu\"\n",
    "2Set_234 = {2,3,4}\n",
    "%List_states = [\"AP\",\"TS\",\"BBS\"]\n",
    "+a = 100\n",
    "=name = \"vamshi\"\n",
    "&is_student = True\n",
    "-fruits = [\"Apple\",\"Mango\",\"Jackfruit\"]\n",
    ",bunty_bool = False\n",
    "/personal_info = {\"vamshi\",\"education\",\"B.Tech\",\"City\"}\n",
    "vamshivamu = { \"python\",\"SQL\",\"JAVA\"}\n",
    "\n",
    "print(2myvar)\n",
    "print(@my_var)\n",
    "print(_my_var 1)\n",
    "print(weight 0)\n",
    "print(#MY_VAR)\n",
    "print(*myvar2)\n",
    "print(2Set_234)\n",
    "print(%List_states)\n",
    "print(+a)\n",
    "print(=name)\n",
    "print(&is_student)\n",
    "print(-fruits)\n",
    "print(,bunty_bool)\n",
    "print(/personal_info)\n",
    "print(vamshivamu)"
   ]
  },
  {
   "cell_type": "markdown",
   "id": "3232b6a7-f7df-4c22-ba3a-e107c9fa2341",
   "metadata": {},
   "source": [
    "## Multiple Variables:"
   ]
  },
  {
   "cell_type": "markdown",
   "id": "25eacc64-5e4a-4940-9a24-e6e9c9c3f71f",
   "metadata": {},
   "source": [
    "Multiple Variables : Python allows you to assign values to multiple variables in one line Examples :"
   ]
  },
  {
   "cell_type": "code",
   "execution_count": 11,
   "id": "50adfb99-48b2-44b7-b067-749e7a418835",
   "metadata": {},
   "outputs": [
    {
     "name": "stdout",
     "output_type": "stream",
     "text": [
      "Orange\n",
      "Strawberry\n",
      "Cherry\n"
     ]
    }
   ],
   "source": [
    "x, y, z = \"Orange\", \"Strawberry\", \"Cherry\"\n",
    "print(x)\n",
    "print(y)\n",
    "print(z)"
   ]
  },
  {
   "cell_type": "markdown",
   "id": "f9d1ea48-719a-4156-a3a0-de3a72e7b8ef",
   "metadata": {},
   "source": [
    "One value in multiple variables example"
   ]
  },
  {
   "cell_type": "code",
   "execution_count": 16,
   "id": "594040bc-9d38-4eb6-b622-3b9b7a9e4495",
   "metadata": {},
   "outputs": [
    {
     "name": "stdout",
     "output_type": "stream",
     "text": [
      "Strawberry\n",
      "Strawberry\n",
      "Strawberry\n"
     ]
    }
   ],
   "source": [
    "x = y = z = \"Strawberry\"\n",
    "print(x)\n",
    "print(y)\n",
    "print(z)"
   ]
  },
  {
   "cell_type": "markdown",
   "id": "78e07c5c-6e71-4c0b-874d-81ad4b95d5d0",
   "metadata": {},
   "source": [
    "## Python Type Function"
   ]
  },
  {
   "cell_type": "markdown",
   "id": "fb633108-f02a-4517-81a7-b9e49bda235c",
   "metadata": {},
   "source": [
    "Python Type Function : The type() function returns the type of the specified object"
   ]
  },
  {
   "cell_type": "markdown",
   "id": "f3a9f1c9-e238-4297-a881-e79ea48f0d85",
   "metadata": {},
   "source": [
    "Example :"
   ]
  },
  {
   "cell_type": "code",
   "execution_count": 26,
   "id": "9e4d1e40-9662-4107-8db0-38ad7032c308",
   "metadata": {},
   "outputs": [
    {
     "name": "stdout",
     "output_type": "stream",
     "text": [
      "<class 'int'>\n"
     ]
    }
   ],
   "source": [
    "x = 10\r\n",
    "print(type(x))"
   ]
  },
  {
   "cell_type": "code",
   "execution_count": 28,
   "id": "b1fafef9-7179-4e17-86be-b882ad2468c4",
   "metadata": {},
   "outputs": [
    {
     "name": "stdout",
     "output_type": "stream",
     "text": [
      "<class 'tuple'>\n",
      "<class 'str'>\n",
      "<class 'int'>\n"
     ]
    }
   ],
   "source": [
    "a = ('apple', 'banana', 'cherry')\n",
    "b = \"Hello World\"\n",
    "c = 33\n",
    "\n",
    "x = type(a)\n",
    "y = type(b)\n",
    "z = type(c)\n",
    "\n",
    "print(x)\n",
    "print(y)\n",
    "print(z)\n"
   ]
  },
  {
   "cell_type": "code",
   "execution_count": null,
   "id": "93fefae2-dde9-4436-a2c1-901ce0bbe9e6",
   "metadata": {},
   "outputs": [],
   "source": []
  }
 ],
 "metadata": {
  "kernelspec": {
   "display_name": "Python 3 (ipykernel)",
   "language": "python",
   "name": "python3"
  },
  "language_info": {
   "codemirror_mode": {
    "name": "ipython",
    "version": 3
   },
   "file_extension": ".py",
   "mimetype": "text/x-python",
   "name": "python",
   "nbconvert_exporter": "python",
   "pygments_lexer": "ipython3",
   "version": "3.12.4"
  }
 },
 "nbformat": 4,
 "nbformat_minor": 5
}
