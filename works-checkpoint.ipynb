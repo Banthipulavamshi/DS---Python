{
 "cells": [
  {
   "cell_type": "code",
   "execution_count": 5,
   "id": "a133d172-c7a4-4036-9773-6c393f06d22a",
   "metadata": {},
   "outputs": [
    {
     "name": "stdin",
     "output_type": "stream",
     "text": [
      "enter your month dec\n"
     ]
    }
   ],
   "source": [
    "month=input('enter your month')"
   ]
  },
  {
   "cell_type": "code",
   "execution_count": 15,
   "id": "a6c77330-9da7-41f9-90b9-5013005ce1c2",
   "metadata": {},
   "outputs": [
    {
     "name": "stdout",
     "output_type": "stream",
     "text": [
      "dec has 28 days\n"
     ]
    }
   ],
   "source": [
    "_31days =['jan','march','may','july','august','oct','Dec']\n",
    "_28days =['feb']\n",
    "_30days =['april','june','sep','Nov']\n",
    "\n",
    "if month in _31days:\n",
    "    print(f'{month} has 31 days')\n",
    "elif month in _30days:\n",
    "    print(f'{month} has 30 days')\n",
    "else:\n",
    "    print(f'{month} has 28 days')\n",
    "\n",
    "        \n",
    "    "
   ]
  },
  {
   "cell_type": "code",
   "execution_count": 102,
   "id": "4a734881-cbf0-4aef-b446-729e9088507d",
   "metadata": {},
   "outputs": [
    {
     "name": "stdin",
     "output_type": "stream",
     "text": [
      "enter your string vamu\n"
     ]
    },
    {
     "name": "stdout",
     "output_type": "stream",
     "text": [
      "umav\n"
     ]
    }
   ],
   "source": [
    "## reverse a string\n",
    "string=input('enter your string') [::-1]\n",
    "print(string)"
   ]
  },
  {
   "cell_type": "code",
   "execution_count": 25,
   "id": "c4a6bd30-5d06-4700-89ed-f67631b0b228",
   "metadata": {},
   "outputs": [
    {
     "name": "stdin",
     "output_type": "stream",
     "text": [
      "enter year 2015\n"
     ]
    }
   ],
   "source": [
    "# lear year program\n",
    "year=int(input('enter year'))"
   ]
  },
  {
   "cell_type": "code",
   "execution_count": 9,
   "id": "d816232e-6a71-47c1-a8ad-d677f045cfe9",
   "metadata": {},
   "outputs": [
    {
     "ename": "NameError",
     "evalue": "name 'year' is not defined",
     "output_type": "error",
     "traceback": [
      "\u001b[1;31m---------------------------------------------------------------------------\u001b[0m",
      "\u001b[1;31mNameError\u001b[0m                                 Traceback (most recent call last)",
      "Cell \u001b[1;32mIn[9], line 1\u001b[0m\n\u001b[1;32m----> 1\u001b[0m \u001b[38;5;28;01mif\u001b[39;00m year \u001b[38;5;241m%\u001b[39m \u001b[38;5;241m4\u001b[39m \u001b[38;5;241m==\u001b[39m \u001b[38;5;241m0\u001b[39m \u001b[38;5;129;01mand\u001b[39;00m year \u001b[38;5;241m%\u001b[39m \u001b[38;5;241m100\u001b[39m\u001b[38;5;241m!=\u001b[39m \u001b[38;5;241m0\u001b[39m:\n\u001b[0;32m      2\u001b[0m     \u001b[38;5;28mprint\u001b[39m(\u001b[38;5;124mf\u001b[39m\u001b[38;5;124m'\u001b[39m\u001b[38;5;132;01m{\u001b[39;00myear\u001b[38;5;132;01m}\u001b[39;00m\u001b[38;5;124m its a leap year\u001b[39m\u001b[38;5;124m'\u001b[39m)\n\u001b[0;32m      3\u001b[0m \u001b[38;5;28;01melif\u001b[39;00m year \u001b[38;5;241m%\u001b[39m \u001b[38;5;241m400\u001b[39m \u001b[38;5;241m==\u001b[39m \u001b[38;5;241m0\u001b[39m \u001b[38;5;129;01mand\u001b[39;00m year \u001b[38;5;241m%\u001b[39m \u001b[38;5;241m100\u001b[39m \u001b[38;5;241m==\u001b[39m \u001b[38;5;241m0\u001b[39m:\n",
      "\u001b[1;31mNameError\u001b[0m: name 'year' is not defined"
     ]
    }
   ],
   "source": [
    "if year % 4 == 0 and year % 100!= 0:\n",
    "    print(f'{year} its a leap year')\n",
    "elif year % 400 == 0 and year % 100 == 0:\n",
    "    print(f'{year} its a leap year') \n",
    "else:\n",
    "    print('f{year} its not a leap year')\n"
   ]
  },
  {
   "cell_type": "code",
   "execution_count": 11,
   "id": "074fa679-aefa-42aa-b8fe-58f89d91e025",
   "metadata": {},
   "outputs": [],
   "source": [
    "## maximum amoung 3 numbers program"
   ]
  },
  {
   "cell_type": "code",
   "execution_count": 13,
   "id": "db2147f8-4bea-45ea-a4ef-c9a794f27d41",
   "metadata": {},
   "outputs": [
    {
     "name": "stdin",
     "output_type": "stream",
     "text": [
      " 55\n",
      " 35\n",
      " 65\n"
     ]
    },
    {
     "name": "stdout",
     "output_type": "stream",
     "text": [
      "65is maximum among these 3 numbers\n"
     ]
    }
   ],
   "source": [
    "num_1=input()\n",
    "num_2=input()\n",
    "num_3=input()\n",
    "\n",
    "if num_1 >= num_2 and num_1 >= num_3:\n",
    "    print(f'{num_1} is maximum among these 3 number')\n",
    "elif num_2 >= num_1 and num_2 >= num_3:\n",
    "    print(f'{num_2} is maxium among these 3 number')\n",
    "else:\n",
    "    print(f'{num_3}is maximum among these 3 numbers')\n",
    "    "
   ]
  },
  {
   "cell_type": "code",
   "execution_count": 14,
   "id": "c25d0491-a341-446b-8c6d-0f9b7115ca67",
   "metadata": {},
   "outputs": [
    {
     "name": "stdin",
     "output_type": "stream",
     "text": [
      "entre your angle: 9\n"
     ]
    },
    {
     "name": "stdout",
     "output_type": "stream",
     "text": [
      "nanogon has nine sides\n"
     ]
    }
   ],
   "source": [
    " number=int(input('entre your angle:'))\n",
    "if number == 1:\n",
    "    print('line has one sides')\n",
    "elif number == 2:\n",
    "    print('circle has no sides')\n",
    "elif number == 3:\n",
    "    print('triangle has three sides')\n",
    "elif number == 4:\n",
    "    print('square has four sides')\n",
    "elif number == 5:\n",
    "    print('pentagan has five sides')\n",
    "elif number == 6:\n",
    "    print('hexagon has six sides')\n",
    "elif number == 7:\n",
    "    print('septagon has seven sides')\n",
    "elif number == 8:\n",
    "    print('octagon has eight sides')\n",
    "elif number == 9:\n",
    "    print('nanogon has nine sides')\n",
    "elif number == 10:\n",
    "    print('decacon has ten sides')\n",
    "else:\n",
    "    print('sorry we are not providing')"
   ]
  },
  {
   "cell_type": "code",
   "execution_count": 38,
   "id": "d1c1d84d-a377-4968-9722-5aca8ed75372",
   "metadata": {},
   "outputs": [
    {
     "name": "stdin",
     "output_type": "stream",
     "text": [
      "enter the traffice signal colours red\n"
     ]
    },
    {
     "name": "stdout",
     "output_type": "stream",
     "text": [
      "red indicates to stop\n"
     ]
    }
   ],
   "source": [
    "## traffice signals\n",
    "\n",
    "traffic_signal=input('enter the traffice signal colours')\n",
    "\n",
    "if traffic_signal=='red':\n",
    "    print('red indicates to stop')\n",
    "elif traffic_signal=='orange':\n",
    "    print('orange indicates to ready')\n",
    "else:\n",
    "    print('green indicates to go')\n",
    "    \n"
   ]
  },
  {
   "cell_type": "code",
   "execution_count": 82,
   "id": "7307fe37-6327-4b7b-9959-06e9e29aa7fd",
   "metadata": {},
   "outputs": [
    {
     "ename": "SyntaxError",
     "evalue": "invalid syntax. Maybe you meant '==' or ':=' instead of '='? (3977919347.py, line 7)",
     "output_type": "error",
     "traceback": [
      "\u001b[1;36m  Cell \u001b[1;32mIn[82], line 7\u001b[1;36m\u001b[0m\n\u001b[1;33m    if character=input('enter the character')\u001b[0m\n\u001b[1;37m       ^\u001b[0m\n\u001b[1;31mSyntaxError\u001b[0m\u001b[1;31m:\u001b[0m invalid syntax. Maybe you meant '==' or ':=' instead of '='?\n"
     ]
    }
   ],
   "source": [
    "\n",
    "# vowels and constants\n",
    "\n",
    "vowels=['a','e','i','o','u' ]\n",
    "\n",
    "consonants=['q','w','r','t','y','p','s','d','f','g','h','j','k','l','z','x','c','v','b','n','m']\n",
    "\n",
    "if character=input('enter the character')\n",
    "    print(f'{character} is an vowel')\n",
    "\n",
    "else:\n",
    "    print(f'{character} is an consonant')\n",
    "\n",
    "\n",
    "            "
   ]
  },
  {
   "cell_type": "code",
   "execution_count": 104,
   "id": "489de67a-98e0-4e80-a89d-7b4effb84d22",
   "metadata": {},
   "outputs": [],
   "source": [
    "\n",
    "\n",
    "##short code"
   ]
  },
  {
   "cell_type": "code",
   "execution_count": 116,
   "id": "0d6f72e5-950e-4871-8c08-82a8690adb08",
   "metadata": {},
   "outputs": [
    {
     "name": "stdin",
     "output_type": "stream",
     "text": [
      "enter your items: mutten curry\n"
     ]
    },
    {
     "name": "stdout",
     "output_type": "stream",
     "text": [
      "sorry we are not providing \n"
     ]
    }
   ],
   "source": [
    "veg_menu=['paneer butter masala', 'panneer curry', 'panneer biriyani','mushroom biriyani','veg biriyani']\n",
    "nonveg_menu=['chicken curry','mutton curry','lobster','chicken fry biriyani','mutton biriyani']\n",
    "\n",
    "items=input('enter your items:')\n",
    "\n",
    "if items in veg_menu:\n",
    "    print('your oder is ready can you wait 05 mins')\n",
    "elif items in nonveg_menu:\n",
    "    print('your oder is ready can you wait 05 mins')\n",
    "\n",
    "else:\n",
    "    print('sorry we are not providing ')\n",
    "    \n",
    "         "
   ]
  },
  {
   "cell_type": "code",
   "execution_count": 128,
   "id": "510cbbac-4830-40bd-8b33-00519bc838db",
   "metadata": {},
   "outputs": [
    {
     "name": "stdin",
     "output_type": "stream",
     "text": [
      " vamshi\n"
     ]
    },
    {
     "name": "stdout",
     "output_type": "stream",
     "text": [
      "['v', 'a', 'm', 's', 'h', 'i']\n"
     ]
    }
   ],
   "source": [
    "## remove a duplication from a list\n",
    "\n",
    "a=input()\n",
    "b=list(dict.fromkeys(a))\n",
    "print(b)\n"
   ]
  },
  {
   "cell_type": "code",
   "execution_count": 130,
   "id": "aef4d939-cc43-4111-9d94-a645eceaa0a2",
   "metadata": {},
   "outputs": [
    {
     "name": "stdin",
     "output_type": "stream",
     "text": [
      " 55\n",
      " 65\n"
     ]
    },
    {
     "name": "stdout",
     "output_type": "stream",
     "text": [
      "65\n",
      "55\n"
     ]
    }
   ],
   "source": [
    "## swapping of 2 numbers without using another variables\n",
    "\n",
    "a=int(input())\n",
    "b=int(input())\n",
    "\n",
    "a,b=b,a\n",
    "print\n",
    "print(a)\n",
    "print(b)\n"
   ]
  },
  {
   "cell_type": "code",
   "execution_count": null,
   "id": "506a58df-2b0d-4a22-a043-20a4db8bcbb7",
   "metadata": {},
   "outputs": [],
   "source": []
  }
 ],
 "metadata": {
  "kernelspec": {
   "display_name": "Python 3 (ipykernel)",
   "language": "python",
   "name": "python3"
  },
  "language_info": {
   "codemirror_mode": {
    "name": "ipython",
    "version": 3
   },
   "file_extension": ".py",
   "mimetype": "text/x-python",
   "name": "python",
   "nbconvert_exporter": "python",
   "pygments_lexer": "ipython3",
   "version": "3.12.4"
  }
 },
 "nbformat": 4,
 "nbformat_minor": 5
}
