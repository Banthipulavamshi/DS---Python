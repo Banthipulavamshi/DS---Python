{
 "cells": [
  {
   "cell_type": "markdown",
   "id": "7779c813-9445-4da5-a8d0-9a6b7e79b89f",
   "metadata": {},
   "source": [
    "## python sets"
   ]
  },
  {
   "cell_type": "markdown",
   "id": "ebee3f5e-be96-4b61-92f3-755444b1bda9",
   "metadata": {},
   "source": [
    ".Sets are used to store multiple items in a single variable."
   ]
  },
  {
   "cell_type": "markdown",
   "id": "53e9ae17-5760-457e-9af9-077cedec92db",
   "metadata": {},
   "source": [
    "Set items are unordered, unchangeable, and do not allow duplicate values."
   ]
  },
  {
   "cell_type": "markdown",
   "id": "9968497a-d23c-486f-9dd4-0c3a78659366",
   "metadata": {},
   "source": [
    "Unordered means that the items in a set do not have a defined order.\r\n",
    "\r\n",
    "Set items can appear in a different order every time you use them, and cannot be referred to by index or key.\r\n",
    "\r\n"
   ]
  },
  {
   "cell_type": "markdown",
   "id": "4ec7b42d-b6f8-4376-8470-7662277e4b74",
   "metadata": {},
   "source": [
    "Set items are unchangeable, meaning that we cannot change the items after the set has been created."
   ]
  },
  {
   "cell_type": "markdown",
   "id": "7a159f0a-b91b-443e-9c9b-b6be452d7b3b",
   "metadata": {},
   "source": [
    "## CREATING SETS|"
   ]
  },
  {
   "cell_type": "code",
   "execution_count": null,
   "id": "ef1869cd-90f8-4c7d-8cb2-13d70f3809d8",
   "metadata": {},
   "outputs": [],
   "source": [
    "## CREATING set"
   ]
  },
  {
   "cell_type": "markdown",
   "id": "9115c1fc-0f0b-4546-a17f-31dd5eea8538",
   "metadata": {},
   "source": [
    "furit = { \"apple\" , \"banana\" , \"orange\"} \n",
    "print = {(type frutis)}\n",
    "type = <set>\n"
   ]
  },
  {
   "cell_type": "markdown",
   "id": "7d2e5b9c-fa72-4ed4-ae1a-301c612f5323",
   "metadata": {},
   "source": [
    "## Duplicates Not Allowed"
   ]
  },
  {
   "cell_type": "code",
   "execution_count": 11,
   "id": "465ab860-14c6-47e9-a4a6-36533b36de64",
   "metadata": {},
   "outputs": [
    {
     "name": "stdout",
     "output_type": "stream",
     "text": [
      "{'landlover', 'TATA', 'Mahindra', 'BMW'}\n"
     ]
    }
   ],
   "source": [
    "cars = {\"landlover\",\"BMW\",\"TATA\",\"Mahindra\",\"TATA\"}\n",
    "print(cars)"
   ]
  },
  {
   "cell_type": "code",
   "execution_count": 13,
   "id": "2281d754-3d4a-422e-b393-0fd1f5ea55b3",
   "metadata": {},
   "outputs": [
    {
     "name": "stdout",
     "output_type": "stream",
     "text": [
      "{False, True, 'mani', 'nithis', 'oman', 'jai'}\n"
     ]
    }
   ],
   "source": [
    "thisset = {\"nithis\", \"oman\", \"jai\", \"mani\", False, True, 0, 1}\n",
    "\n",
    "print(thisset)"
   ]
  },
  {
   "cell_type": "markdown",
   "id": "766aced2-6287-4ef9-ab45-df2efea200aa",
   "metadata": {},
   "source": [
    "## Get the Length of a Set"
   ]
  },
  {
   "cell_type": "code",
   "execution_count": 21,
   "id": "76c26120-ac9f-4188-83aa-26c6d71d943a",
   "metadata": {},
   "outputs": [
    {
     "name": "stdout",
     "output_type": "stream",
     "text": [
      "7\n"
     ]
    }
   ],
   "source": [
    "thisset = {\"nithis\", \"oman\", \"jai\", \"mani\", False, True, 0, 1, 3}\n",
    "\n",
    "print(len(thisset))"
   ]
  },
  {
   "cell_type": "markdown",
   "id": "b6a68ee8-63c1-4ba0-a514-99925c1a3dee",
   "metadata": {},
   "source": [
    "## The set() Constructor"
   ]
  },
  {
   "cell_type": "code",
   "execution_count": 23,
   "id": "cedcb7df-969b-476f-b72c-cf279290fb38",
   "metadata": {},
   "outputs": [
    {
     "name": "stdout",
     "output_type": "stream",
     "text": [
      "{'mani', 'oman', 'jai', 'nithis'}\n"
     ]
    }
   ],
   "source": [
    "thisset = set((\"  \"))\n",
    "\n",
    "print(thisset)\n"
   ]
  },
  {
   "cell_type": "markdown",
   "id": "b7688d17-9520-47eb-9214-d6fed993b60c",
   "metadata": {},
   "source": [
    "## ADD & UPDATE SET ITEMS IN PYTHON"
   ]
  },
  {
   "cell_type": "markdown",
   "id": "6a8e5b8c-e2dd-4eb7-b21b-9064b1dccc40",
   "metadata": {},
   "source": [
    "The Python set() method is used for type casting."
   ]
  },
  {
   "cell_type": "markdown",
   "id": "fc610182-b25d-4e85-a2f1-2d62d0d90a82",
   "metadata": {},
   "source": [
    "Python sets cannot have a duplicate value and once it is created we cannot change its value."
   ]
  },
  {
   "cell_type": "markdown",
   "id": "b107aab9-d424-4a8d-9023-bb9d06159c2f",
   "metadata": {},
   "source": [
    "The second code generates an error because we cannot assign or change a value once the set is created. We can only add or delete items in the set."
   ]
  },
  {
   "cell_type": "markdown",
   "id": "f36aa35f-5390-42fd-8248-57a01da3cddd",
   "metadata": {},
   "source": [
    "Python sets can store heterogeneous elements in it, i.e., a set can store a mixture of string, integer, boolean, etc datatypes.\r\n",
    "\r\n",
    "\r\n"
   ]
  },
  {
   "cell_type": "markdown",
   "id": "d1847d55-1ec7-4750-9dfe-d88558bb4f02",
   "metadata": {},
   "source": [
    "This is based on a data structure known as a hash table.  If Multiple values are present at the same index position, then the value is appended to that index position, to form a Linked List."
   ]
  },
  {
   "cell_type": "code",
   "execution_count": 39,
   "id": "ca008979-c38f-4f22-9b18-d6d5f48c5181",
   "metadata": {},
   "outputs": [],
   "source": [
    "## ADD item to a set in python"
   ]
  },
  {
   "cell_type": "markdown",
   "id": "c4fd8171-33b5-4dfa-96d3-801ba2782c4b",
   "metadata": {},
   "source": [
    " .  The .add() method adds a single element to the set. If the element already exists in the set, it will not be added again (since sets only store unique elements)."
   ]
  },
  {
   "cell_type": "code",
   "execution_count": 26,
   "id": "24d8868e-bf9e-45ef-8b6c-7329edbc9989",
   "metadata": {},
   "outputs": [],
   "source": [
    "#Add Items"
   ]
  },
  {
   "cell_type": "markdown",
   "id": "59088d9c-1aa0-4c0a-9b9a-d1f26266d4da",
   "metadata": {},
   "source": [
    ". To add one item to a set use the add() method."
   ]
  },
  {
   "cell_type": "code",
   "execution_count": 29,
   "id": "d37bf859-7a7b-4542-aada-31f5575e13cc",
   "metadata": {},
   "outputs": [
    {
     "name": "stdout",
     "output_type": "stream",
     "text": [
      "Initial Set: {32, 0, 2, 3, 4, 5, 7, 9, 11, 334, 54, 23}\n",
      "Updated Set: {32, 0, 2, 3, 4, 5, 7, 9, 11, 334, 14, 54, 23}\n"
     ]
    }
   ],
   "source": [
    "numbers = {9,5,7,2,54,3,2,5,32,5,23,4,2,9,0,2,11,334}\n",
    "print('Initial Set:',numbers)\n",
    "numbers.add(14)\n",
    "print('Updated Set:',numbers)"
   ]
  },
  {
   "cell_type": "code",
   "execution_count": 31,
   "id": "59825d4e-2118-4e3e-ae14-c12f02e414b2",
   "metadata": {},
   "outputs": [
    {
     "name": "stdout",
     "output_type": "stream",
     "text": [
      "{'banana', 'cherry', 'apple', 'orange'}\n"
     ]
    }
   ],
   "source": [
    "Set = {\"apple\", \"banana\", \"cherry\"}\n",
    "\n",
    "Set.add(\"orange\")\n",
    "\n",
    "print(Set)\n"
   ]
  },
  {
   "cell_type": "code",
   "execution_count": null,
   "id": "b3ef2794-8e61-428d-a4fd-09ad77b8ed3c",
   "metadata": {},
   "outputs": [],
   "source": []
  },
  {
   "cell_type": "markdown",
   "id": "96e3b693-9e69-43b3-821f-5fae00f4d297",
   "metadata": {},
   "source": [
    "## update python set"
   ]
  },
  {
   "cell_type": "markdown",
   "id": "329bee67-bd64-43da-b71e-0154fdee888e",
   "metadata": {},
   "source": [
    "\n",
    "Before we dive into the details of updating Python, let’s briefly discuss why it’s important to keep your Python version up to date.\n",
    "\n"
   ]
  },
  {
   "cell_type": "markdown",
   "id": "993136df-bcb3-4906-bc89-9ab9cabb75c9",
   "metadata": {},
   "source": [
    "Python Set update() function does not return any values: it modifies the set in place by adding elements from another set (or any other iterable), without duplicates."
   ]
  },
  {
   "cell_type": "markdown",
   "id": "88ea9c5e-f5f4-455d-8376-5d9e82990b6f",
   "metadata": {},
   "source": [
    "Set Update can be performed with the |= operator as well, providing an alternative to the update() method.\n"
   ]
  },
  {
   "cell_type": "code",
   "execution_count": null,
   "id": "08010fd0-28fa-47af-9bb0-f410550781c0",
   "metadata": {},
   "outputs": [],
   "source": []
  },
  {
   "cell_type": "code",
   "execution_count": 88,
   "id": "099d53b3-31e1-4d86-8454-94fc5aa62821",
   "metadata": {},
   "outputs": [],
   "source": [
    "## Update of Two Sets with update() method"
   ]
  },
  {
   "cell_type": "code",
   "execution_count": 33,
   "id": "e40e82d8-5f96-4228-b700-23f2c2a86daf",
   "metadata": {},
   "outputs": [
    {
     "name": "stdout",
     "output_type": "stream",
     "text": [
      "{'micron', 'Google', 'apple', 'Tech Mahindra', 'Technologies', 'microsoft'}\n"
     ]
    }
   ],
   "source": [
    "companies = {'microsoft','Technologies'}\n",
    "tech_companies = {'apple','Google','apple','micron','apple','Tech Mahindra'}\n",
    "update_companies = companies.update(tech_companies)\n",
    "print(companies)\n"
   ]
  },
  {
   "cell_type": "markdown",
   "id": "f47f62ea-842b-4731-a39c-1c7494cbab29",
   "metadata": {},
   "source": [
    "## Add Any Iterable"
   ]
  },
  {
   "cell_type": "markdown",
   "id": "e8eab461-e071-4b41-8080-b20aaf72deef",
   "metadata": {},
   "source": [
    "The object in the update() method does not have to be a set, it can be any iterable object (tuples, lists, dictionaries etc.)."
   ]
  },
  {
   "cell_type": "code",
   "execution_count": 5,
   "id": "16060d4b-7bca-4230-9fc0-d9a4f41c7655",
   "metadata": {},
   "outputs": [
    {
     "name": "stdout",
     "output_type": "stream",
     "text": [
      "{'Doraman', 'jeryAnna', 'nithin', 'Tom'}\n"
     ]
    }
   ],
   "source": [
    "A = {'Tom','jery''Anna'}\n",
    "B = {'Doraman', 'nithin'}\n",
    "\n",
    "A.update(B)\n",
    "print(A)"
   ]
  },
  {
   "cell_type": "markdown",
   "id": "5050dad9-85fb-45b4-8b50-b60ad928d193",
   "metadata": {},
   "source": []
  },
  {
   "cell_type": "markdown",
   "id": "bef7b397-2a95-4554-9827-58520fb9f791",
   "metadata": {},
   "source": [
    "## REMOVE ON ELEMENT FROM A SET"
   ]
  },
  {
   "cell_type": "markdown",
   "id": "91ef14a8-845c-4842-a49a-e6ea7078268f",
   "metadata": {},
   "source": [
    "To remove an item in a set, use the remove(), or the discard() method.\n",
    "\n"
   ]
  },
  {
   "cell_type": "markdown",
   "id": "4593397d-a6f9-44e4-9f80-323c60ffe76a",
   "metadata": {},
   "source": [
    "If the item to remove does not exist, discard() will NOT raise an error.\n",
    "\n"
   ]
  },
  {
   "cell_type": "code",
   "execution_count": 37,
   "id": "8f03aa19-8508-45e3-bdcb-3d8b96936f09",
   "metadata": {},
   "outputs": [],
   "source": [
    "##Remove Item"
   ]
  },
  {
   "cell_type": "markdown",
   "id": "15fc4a4b-4097-437b-b2e2-a47829f84493",
   "metadata": {},
   "source": [
    "You can also use the pop(), method to remove an item, but this method will remove the last item. Remember that sets are unordered, so you will not know what item that gets removed."
   ]
  },
  {
   "cell_type": "code",
   "execution_count": 39,
   "id": "45f08102-34ad-43e7-b11f-84f594d5c479",
   "metadata": {},
   "outputs": [
    {
     "name": "stdout",
     "output_type": "stream",
     "text": [
      "{'apple', 'pine apple'}\n"
     ]
    }
   ],
   "source": [
    "thisset = {\"apple\", \"banana\", \"cherry\",\"pine apple\"}\n",
    "\n",
    "thisset.remove(\"banana\")\n",
    "thisset.discard(\"cherry\")\n",
    "\n",
    "print(thisset)"
   ]
  },
  {
   "cell_type": "markdown",
   "id": "faf07f91-392b-4190-8c28-e8929656543d",
   "metadata": {},
   "source": [
    "## Python Set Operations"
   ]
  },
  {
   "cell_type": "markdown",
   "id": "20925d92-da90-4bf8-b0dd-aa2dbd12d9fb",
   "metadata": {},
   "source": [
    ". Python Set Provides different built-in methods to perform mathematical set operations like union,intersection, difference, symmetric_difference."
   ]
  },
  {
   "cell_type": "code",
   "execution_count": 43,
   "id": "03822505-9aa9-47fd-82a1-3a8ab761460f",
   "metadata": {},
   "outputs": [],
   "source": [
    "# 1. Union"
   ]
  },
  {
   "cell_type": "markdown",
   "id": "308acd6f-9003-4802-807f-0e913e0a3aac",
   "metadata": {},
   "source": [
    ". The union() method returns a new set with all items from both sets.\n",
    ". The union of two sets A and B include all the elements of set A and B.\n",
    ". Combines elements from two sets, removing duplicate\n"
   ]
  },
  {
   "cell_type": "code",
   "execution_count": 47,
   "id": "cb6b5b85-18b3-4428-ba20-371f731910f9",
   "metadata": {},
   "outputs": [
    {
     "name": "stdout",
     "output_type": "stream",
     "text": [
      "union using |: {0, 1, 2, 3, 4, 5, 7, 8, 9}\n",
      "union using union(): {0, 1, 2, 3, 4, 5, 7, 8, 9}\n"
     ]
    }
   ],
   "source": [
    "c = {1,3,5,9,4}\n",
    "d = {0,2,4,7,8}\n",
    "print('union using |:', c|d)\n",
    "\n",
    "print('union using union():',c.union(d))"
   ]
  },
  {
   "cell_type": "code",
   "execution_count": 49,
   "id": "4519c047-6d7d-4f04-a2b5-eeb46b1ed0a6",
   "metadata": {},
   "outputs": [
    {
     "name": "stdout",
     "output_type": "stream",
     "text": [
      "{'Elena', 1, 2, 3, 'b', 'bananas', 'John', 'a', 'cherry', 'c', 'apple'}\n"
     ]
    }
   ],
   "source": [
    "set1 = {\"a\", \"b\", \"c\"}\n",
    "set2 = {1, 2, 3}\n",
    "set3 = {\"John\", \"Elena\"}\n",
    "set4 = {\"apple\", \"bananas\", \"cherry\"}\n",
    "\n",
    "myset = set1 | set2 | set3 |set4\n",
    "print(myset)"
   ]
  },
  {
   "cell_type": "code",
   "execution_count": 51,
   "id": "f5d69252-52d7-41f7-9635-849228925b28",
   "metadata": {},
   "outputs": [],
   "source": [
    "# 2. Set Intersection"
   ]
  },
  {
   "cell_type": "markdown",
   "id": "305b77c6-ef8e-4be4-bad4-ab4af7faf5d2",
   "metadata": {},
   "source": [
    " .The intersection() method will return a new set, that only contains the items that are present in both sets.\n",
    " .The intersection of two sets A and B include the commomn elements between set A and B.\n",
    " .Returns common elements between two sets.\n",
    " ))"
   ]
  },
  {
   "cell_type": "code",
   "execution_count": 56,
   "id": "d0e03c06-6f73-49a3-80c6-19bc1330476e",
   "metadata": {},
   "outputs": [
    {
     "name": "stdout",
     "output_type": "stream",
     "text": [
      "{False, 1, 'apple'}\n"
     ]
    }
   ],
   "source": [
    "set1 = {\"apple\", 1,  \"banana\", 0, \"cherry\"}\n",
    "set2 = {False, \"google\", 1, \"apple\", 2, True}\n",
    "\n",
    "set3 = set1.intersection(set2)\n",
    "\n",
    "print(set3)"
   ]
  },
  {
   "cell_type": "code",
   "execution_count": 58,
   "id": "81ad1731-774d-42fd-865e-89b7dddbffb9",
   "metadata": {},
   "outputs": [],
   "source": [
    "# 3. Difference between Two Sets"
   ]
  },
  {
   "cell_type": "markdown",
   "id": "4b94433e-dbe0-46cc-9fb5-7b5127583ffb",
   "metadata": {},
   "source": [
    " .The difference() method will return a new set that will contain only the items from the first set that are not present in the other set.\n",
    " .The difference between two sets A and B include elements of set A that are not present on set B.\n",
    " .Returns elements that are in the first set but not in the second.\n",
    " "
   ]
  },
  {
   "cell_type": "markdown",
   "id": "adc7217b-d73c-43dd-b3b9-d1e9642cc859",
   "metadata": {},
   "source": [
    "A = {2, 3, 5, 9, 0, 4}\n",
    "B = {1, 2, 6, 4, 7}\n",
    "\n",
    "print('Difference using -:', A - B)\n",
    "\n",
    "print('Difference using difference():', A.difference(B))"
   ]
  },
  {
   "cell_type": "code",
   "execution_count": 63,
   "id": "20662372-98e1-4353-90ae-908133d5147c",
   "metadata": {},
   "outputs": [
    {
     "name": "stdout",
     "output_type": "stream",
     "text": [
      "Difference using -: {1, 6, 7}\n",
      "Difference using difference(): {1, 6, 7}\n"
     ]
    }
   ],
   "source": [
    "print('Difference using -:', B - A)\n",
    "\n",
    "print('Difference using difference():',B.difference(A))"
   ]
  },
  {
   "cell_type": "code",
   "execution_count": 65,
   "id": "26d032a0-ae30-4816-b4f1-8207fc590883",
   "metadata": {},
   "outputs": [],
   "source": [
    "# 4.Set Symmetric Differences"
   ]
  },
  {
   "cell_type": "markdown",
   "id": "1128b9a2-4cbd-4a6c-a8da-c2acd2d0322f",
   "metadata": {},
   "source": [
    ". The symmetric_difference() method will keep only the elements that are NOT present in both sets.\n",
    ". The symmetric difference between two set A and B includes A and B without the common elements.\n",
    ". Returns elements that are in either of the sets, but not in both.\n"
   ]
  },
  {
   "cell_type": "code",
   "execution_count": 76,
   "id": "7dd88b73-a65a-4526-a3cf-8b84d016d600",
   "metadata": {},
   "outputs": [
    {
     "name": "stdout",
     "output_type": "stream",
     "text": [
      "using ^: {1, 3, 5, 6, 7, 8, 9}\n",
      "using symmetric_difference(): {1, 3, 5, 6, 7, 8, 9}\n"
     ]
    }
   ],
   "source": [
    "A = {2, 3, 5, 7, 8, 4}\r\n",
    "B = {1, 2, 6, 4, 9}\r\n",
    "\r\n",
    "print('using ^:',A ^ B)\r\n",
    "\r\n",
    "print('using symmetric_difference():',A.symmetric_difference(B))"
   ]
  },
  {
   "cell_type": "markdown",
   "id": "ed343849-8251-4a55-8dc1-83a63b1de430",
   "metadata": {},
   "source": [
    "\n",
    "## Python - Set Methods"
   ]
  },
  {
   "cell_type": "markdown",
   "id": "4be97fe6-463b-4099-8144-fe6626a257a3",
   "metadata": {},
   "source": [
    ". Python has a set of built-in methods that you can use on sets."
   ]
  },
  {
   "cell_type": "markdown",
   "id": "9dbd2d9c-a7c2-487e-a2ef-1175719ea163",
   "metadata": {},
   "source": [
    "Method\t       Shortcut\t            Description"
   ]
  },
  {
   "cell_type": "markdown",
   "id": "bcd53f5f-fda8-4cae-8b2f-1602e20a23b0",
   "metadata": {},
   "source": [
    "add()\t\t                 Adds an elemnet to the set"
   ]
  },
  {
   "cell_type": "code",
   "execution_count": null,
   "id": "a426b53d-9a5a-4ef7-b8b5-67031d129217",
   "metadata": {},
   "outputs": [],
   "source": [
    "clear()\t                   \tRemoves all the elements from the set\n",
    "\n",
    "copy()\t\t                Returns a copy of the set"
   ]
  },
  {
   "cell_type": "markdown",
   "id": "ae1b8996-4f78-49a1-b77f-7d6ae31e28a9",
   "metadata": {},
   "source": [
    "difference()    \t-\t    Returns a set contaning the difference between two or more sets\n",
    "\n",
    "difference_update()\t-=\t     Removes the items in this set that are also included in another specified set\n",
    "\n",
    "discard()\t\t             Remove the specified item\n",
    "\n",
    "intersection()\t&            Returns a set, that is the intersection of two other sets\n",
    "\n",
    "intersection_update()\t&=\t    Removes the items in this set that are not present in other, specified set(s)\n",
    "\n",
    "isdisjoint()\t\t            Returns whether two sets have a intersection or not\n",
    "\n",
    "    issubset()\t<=             Returns whether another set contains this set or not\n",
    "    \n",
    "                <\t            Returns whether all items in this set is present in other, specified set(s)\n",
    "\n",
    "    issuperset()\t>=\t          Returns whether this set conatins another set or not\n",
    "\n",
    "                   >\t       Returns whether all items in other, specified set(s) is present in this set.\n",
    "\n",
    "    pop()\t\t              Removes an element from the set\n",
    "\n",
    "remove()\t                 \tRemoves the specified element\n",
    "\n",
    "symmetric_difference()  \t^\t  Returns a set with the symmetric difference of two sets\n",
    "\n",
    "symmetric_difference_update() \t^=\t  Inserts the symmetric difference from this set and another\n",
    "\n",
    "union()           \tI\t                       Return a set contaning the union of stes"
   ]
  },
  {
   "cell_type": "markdown",
   "id": "d2cbc1cd-4306-4586-85f4-b138794af8fe",
   "metadata": {},
   "source": [
    "update()\t       I=\t     Update the set with the union of this set and others  "
   ]
  },
  {
   "cell_type": "markdown",
   "id": "ef455b92-a2a0-4652-8efb-0e04573240cc",
   "metadata": {},
   "source": [
    "## 1. add():"
   ]
  },
  {
   "cell_type": "markdown",
   "id": "eb394730-8d30-4a75-9d6b-c5a31b5be7a0",
   "metadata": {},
   "source": [
    ". The add() method adds an element to the set. "
   ]
  },
  {
   "cell_type": "markdown",
   "id": "aaf102b3-3efe-43f7-9b68-441bb18a39d7",
   "metadata": {},
   "source": [
    ". If the element already exists, the add() method does not add the element\n"
   ]
  },
  {
   "cell_type": "markdown",
   "id": "d4b571d8-8bf9-4553-bcc1-e38142c708c7",
   "metadata": {},
   "source": [
    "## Syntax"
   ]
  },
  {
   "cell_type": "code",
   "execution_count": null,
   "id": "c19ed37a-6797-444c-8508-16a818aefc05",
   "metadata": {},
   "outputs": [],
   "source": [
    "\n",
    "set.add(elmnt)\n"
   ]
  },
  {
   "cell_type": "code",
   "execution_count": 14,
   "id": "fd838240-92e0-4380-8bd3-d67e69cdbac8",
   "metadata": {},
   "outputs": [
    {
     "name": "stdout",
     "output_type": "stream",
     "text": [
      "{'Kakinada', 'Ananthagiri Hills', 'Vizag', 'Araku', 'Tirupati'}\n"
     ]
    }
   ],
   "source": [
    "\n",
    "visited_places = {\"Vizag\",\"Araku\",\"Ananthagiri Hills\",\"Tirupati\"}\n",
    "visited_places.add(\"Kakinada\")\n",
    "print(visited_places)\n"
   ]
  },
  {
   "cell_type": "markdown",
   "id": "9b400dd5-6e5d-46b8-9d35-8191d4f88ea6",
   "metadata": {},
   "source": [
    "## 2.clear():"
   ]
  },
  {
   "cell_type": "markdown",
   "id": "2f8eb2c2-6637-40d6-930f-42571add11af",
   "metadata": {},
   "source": [
    "The clear() method removes all elements in a set."
   ]
  },
  {
   "cell_type": "code",
   "execution_count": null,
   "id": "3d7be543-29d8-466b-994f-99ae0eb56d94",
   "metadata": {},
   "outputs": [],
   "source": [
    "\n",
    "set.clear()"
   ]
  },
  {
   "cell_type": "markdown",
   "id": "3d12d5a2-84b6-4c29-b179-81bf8636dae3",
   "metadata": {},
   "source": [
    "names = {\"nithis\", \"oman\", \"jai\", \"mani\"}\r\n",
    "names.clear()\r\n",
    "print(names)"
   ]
  },
  {
   "cell_type": "markdown",
   "id": "8cffcba9-49c7-422c-a343-e0dfe91f096e",
   "metadata": {},
   "source": [
    "## 3.copy():"
   ]
  },
  {
   "cell_type": "markdown",
   "id": "0d11ed05-50d1-4172-bf12-e5a870b00950",
   "metadata": {},
   "source": [
    "The copy() method copies the set."
   ]
  },
  {
   "cell_type": "markdown",
   "id": "7f51ab54-0797-4844-bcb1-153ad5a20b3d",
   "metadata": {},
   "source": [
    "## Syntax"
   ]
  },
  {
   "cell_type": "code",
   "execution_count": null,
   "id": "3af33411-d5fa-434c-a177-9bea42dada0f",
   "metadata": {},
   "outputs": [],
   "source": [
    "set.copy()"
   ]
  },
  {
   "cell_type": "code",
   "execution_count": 32,
   "id": "f4874c7d-98f2-4f3d-b945-691c0291cd65",
   "metadata": {},
   "outputs": [
    {
     "name": "stdout",
     "output_type": "stream",
     "text": [
      "{'Nexa', 'Honda', 'Maruthi Suziki', 'Benz', 'Audi'}\n"
     ]
    }
   ],
   "source": [
    "car_companies = {\"Nexa\",\"Maruthi Suziki\",\"Honda\",\"Audi\",\"Benz\"}\n",
    "\n",
    "car = car_companies.copy()\n",
    "\n",
    "print(car)"
   ]
  },
  {
   "cell_type": "markdown",
   "id": "21e4aa63-57fd-4ed0-90ad-ec6b27ba4495",
   "metadata": {},
   "source": [
    "\n",
    "## 4.difference():"
   ]
  },
  {
   "cell_type": "markdown",
   "id": "3d05da6d-4944-4e39-8b33-45be27bdf816",
   "metadata": {},
   "source": [
    ". The difference() method returns a set that contains the difference between two set"
   ]
  },
  {
   "cell_type": "markdown",
   "id": "5d366bf6-61a1-46b3-8ca4-536710df155f",
   "metadata": {},
   "source": [
    "  ## Syntax"
   ]
  },
  {
   "cell_type": "markdown",
   "id": "32618025-61f8-4bbc-91e2-fb4318daded3",
   "metadata": {},
   "source": [
    "set.difference(set1, set2 ... etc.)"
   ]
  },
  {
   "cell_type": "code",
   "execution_count": 42,
   "id": "299a0888-9a03-4a64-9743-74e944a99715",
   "metadata": {},
   "outputs": [
    {
     "name": "stdout",
     "output_type": "stream",
     "text": [
      "{'cherry', 'watermelon', 'orange'}\n"
     ]
    }
   ],
   "source": [
    "fruits = {\"apple\",\"orange\",\"cherry\",\"watermelon\"}\n",
    "companies = {\"google\", \"microsoft\", \"apple\"}\n",
    "\n",
    "vamshi = fruits.difference(companies)\n",
    "print(vamshi)"
   ]
  },
  {
   "cell_type": "markdown",
   "id": "1f2ab826-a384-4e7f-b130-d5d9cc3e7312",
   "metadata": {},
   "source": [
    "# 5.difference_update():\r\n"
   ]
  },
  {
   "cell_type": "markdown",
   "id": "75136d66-5082-4fc0-acba-fe4c6436099e",
   "metadata": {},
   "source": [
    " . The difference_update() method removes the items that exist in both sets."
   ]
  },
  {
   "cell_type": "markdown",
   "id": "f83b8b81-fec1-4a04-9ac9-c6571d97a6b6",
   "metadata": {},
   "source": [
    "# Syntax"
   ]
  },
  {
   "cell_type": "code",
   "execution_count": null,
   "id": "be633593-2407-46e0-a22d-ee7f311483df",
   "metadata": {},
   "outputs": [],
   "source": [
    "set.difference_update(set1, set2 ... etc.)"
   ]
  },
  {
   "cell_type": "code",
   "execution_count": 46,
   "id": "970c1bf9-0585-4dee-bff5-fa4d741b5ec0",
   "metadata": {},
   "outputs": [
    {
     "name": "stdout",
     "output_type": "stream",
     "text": [
      "{'cherry', 'orange', 'watermelon'}\n"
     ]
    }
   ],
   "source": [
    "fruits = {\"apple\",\"orange\",\"cherry\",\"watermelon\"}\n",
    "companies = {\"google\", \"microsoft\", \"apple\"}\n",
    "\n",
    "fruits -= companies\n",
    "\n",
    "print(fruits)"
   ]
  },
  {
   "cell_type": "markdown",
   "id": "4a2268db-d6e8-4f65-a069-53cdb1659b2e",
   "metadata": {},
   "source": [
    "# 6. discard():"
   ]
  },
  {
   "cell_type": "code",
   "execution_count": null,
   "id": "4868579e-9dae-477d-ad38-aef52c048552",
   "metadata": {},
   "outputs": [],
   "source": [
    "The discard() method removes the specified item from the set."
   ]
  },
  {
   "cell_type": "markdown",
   "id": "b2c75d28-ed4f-440f-a2e5-da19a7b9e077",
   "metadata": {},
   "source": [
    "# Syntax"
   ]
  },
  {
   "cell_type": "markdown",
   "id": "882bf4c4-92b6-43a8-b709-e4472e2e97c9",
   "metadata": {},
   "source": [
    "\n",
    "set.discard(value)\n"
   ]
  },
  {
   "cell_type": "code",
   "execution_count": 59,
   "id": "e67cfc92-475d-4eb1-a192-8d1f003cd99c",
   "metadata": {},
   "outputs": [
    {
     "name": "stdout",
     "output_type": "stream",
     "text": [
      "{'nithis', 'oman', 'jai', 'mani'}\n"
     ]
    }
   ],
   "source": [
    "names = {\"nithis\",\"vamshi\", \"oman\", \"jai\", \"mani\"}\n",
    "\n",
    "names.discard(\"vamshi\")\n",
    "\n",
    "print(names)"
   ]
  },
  {
   "cell_type": "markdown",
   "id": "22e15ba7-67c4-4941-8198-3c62852d0f82",
   "metadata": {},
   "source": [
    "## 7. intersection():"
   ]
  },
  {
   "cell_type": "code",
   "execution_count": null,
   "id": "562ae80e-920e-4221-be41-8e2b05b31707",
   "metadata": {},
   "outputs": [],
   "source": [
    "The intersection() method returns a set that contains the similarity between two or more sets."
   ]
  },
  {
   "cell_type": "markdown",
   "id": "e949a029-6cff-41d9-9aa6-aa50869286b9",
   "metadata": {},
   "source": [
    "# syntax"
   ]
  },
  {
   "cell_type": "code",
   "execution_count": null,
   "id": "ec17f2be-57b7-4d0c-9314-eaa9787e1f69",
   "metadata": {},
   "outputs": [],
   "source": [
    "set.intersection(set1, set2 ... etc.)"
   ]
  },
  {
   "cell_type": "code",
   "execution_count": 63,
   "id": "4bd64a86-1961-44b8-95f8-b1216e7d26e0",
   "metadata": {},
   "outputs": [
    {
     "name": "stdout",
     "output_type": "stream",
     "text": [
      "{'apple'}\n"
     ]
    }
   ],
   "source": [
    "fruits = {\"apple\",\"orange\",\"cherry\",\"watermelon\"}\n",
    "companies = {\"google\", \"microsoft\", \"apple\"}\n",
    "\n",
    "vamshi = fruits.intersection(companies)\n",
    "\n",
    "print(vamshi)"
   ]
  },
  {
   "cell_type": "markdown",
   "id": "2b5df4bf-1e51-4655-8329-5ef6e7d13147",
   "metadata": {},
   "source": [
    "# 8. intersection_update():"
   ]
  },
  {
   "cell_type": "markdown",
   "id": "ae1c07f9-8169-4287-9141-6a71186f48fb",
   "metadata": {},
   "source": [
    "The intersection_update() method removes the items that is not present in both sets(or in all sets if the comparison is done between more than two sets)."
   ]
  },
  {
   "cell_type": "code",
   "execution_count": null,
   "id": "6921e612-833c-4896-aa8f-4f5dff44c27c",
   "metadata": {},
   "outputs": [],
   "source": [
    "set.intersection_update(set1, set2 ... etc)"
   ]
  },
  {
   "cell_type": "code",
   "execution_count": 68,
   "id": "e76e4a9d-3771-4b7a-9f3b-f1cc8c63a576",
   "metadata": {},
   "outputs": [
    {
     "name": "stdout",
     "output_type": "stream",
     "text": [
      "{'apple'}\n"
     ]
    }
   ],
   "source": [
    "a = {\"apple\", \"banana\", \"cherry\"}\r\n",
    "b = {\"google\", \"microsoft\", \"apple\"}\r\n",
    "\r\n",
    "a &= b #a.intersection_update(b) \r\n",
    "\r\n",
    "print(a)"
   ]
  },
  {
   "cell_type": "markdown",
   "id": "1641bb0a-01ae-4b2b-bf34-2ddd15656f8f",
   "metadata": {},
   "source": [
    "# 9.isdisjoint():"
   ]
  },
  {
   "cell_type": "markdown",
   "id": "6ac9f55f-d02b-4436-96f3-6166c059eccd",
   "metadata": {},
   "source": [
    "The isdisjoint() method returns True if none of the items are present in both sets, otherwise it returns False."
   ]
  },
  {
   "cell_type": "markdown",
   "id": "82b95eb1-1c17-44d0-b8cc-66d216f6ad76",
   "metadata": {},
   "source": [
    "set.isdisjoint(set)"
   ]
  },
  {
   "cell_type": "code",
   "execution_count": 71,
   "id": "758567fe-e41b-4dcf-ae21-aebb2bc52397",
   "metadata": {},
   "outputs": [
    {
     "name": "stdout",
     "output_type": "stream",
     "text": [
      "True\n"
     ]
    }
   ],
   "source": [
    "colours = {\"White\",\"Yellow\",\"Blue\",\"Green\",\"Black\"}\n",
    "numbers = [1,2, 3, 4, 5]\n",
    "\n",
    "vamshi= colours.isdisjoint(numbers)\n",
    "\n",
    "print(vamshi)"
   ]
  },
  {
   "cell_type": "markdown",
   "id": "58f299b5-a9f7-4065-be4e-979e968dfe00",
   "metadata": {},
   "source": [
    "# 10. issubset():"
   ]
  },
  {
   "cell_type": "markdown",
   "id": "226e86dd-6377-4146-a322-0a6030a82bd4",
   "metadata": {},
   "source": [
    "The issubset() method returns True if all items in the set exists in the specified set, otherwise it returns False.\n"
   ]
  },
  {
   "cell_type": "markdown",
   "id": "7d22866e-98f1-41e0-ae73-a60751389556",
   "metadata": {},
   "source": [
    "set.issubset(set1)\n"
   ]
  },
  {
   "cell_type": "code",
   "execution_count": 76,
   "id": "52eea64d-828d-4b23-8470-1ebf5727000e",
   "metadata": {},
   "outputs": [
    {
     "name": "stdout",
     "output_type": "stream",
     "text": [
      "True\n"
     ]
    }
   ],
   "source": [
    "x = {\"a\", \"b\", \"c\"}\n",
    "y = {\"f\", \"e\", \"d\", \"c\", \"b\", \"a\"}\n",
    "\n",
    "z = x <= y\n",
    "\n",
    "print(z)"
   ]
  },
  {
   "cell_type": "code",
   "execution_count": null,
   "id": "95a712cd-1979-49cd-ab72-45f157e2c970",
   "metadata": {},
   "outputs": [],
   "source": []
  }
 ],
 "metadata": {
  "kernelspec": {
   "display_name": "Python 3 (ipykernel)",
   "language": "python",
   "name": "python3"
  },
  "language_info": {
   "codemirror_mode": {
    "name": "ipython",
    "version": 3
   },
   "file_extension": ".py",
   "mimetype": "text/x-python",
   "name": "python",
   "nbconvert_exporter": "python",
   "pygments_lexer": "ipython3",
   "version": "3.12.4"
  }
 },
 "nbformat": 4,
 "nbformat_minor": 5
}
